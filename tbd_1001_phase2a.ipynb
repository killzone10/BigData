{
 "cells": [
  {
   "cell_type": "code",
   "execution_count": 13,
   "id": "28bdd13a-d689-464b-b5f3-7e963da18e6f",
   "metadata": {},
   "outputs": [],
   "source": [
    "import os\n",
    "from pyspark.ml.feature import StringIndexer, OneHotEncoder, VectorAssembler\n",
    "from pyspark.ml.classification import DecisionTreeClassifier\n",
    "from pyspark.ml import Pipeline\n",
    "from pyspark.ml.evaluation import BinaryClassificationEvaluator\n",
    "from pyspark.ml.evaluation import MulticlassClassificationEvaluator"
   ]
  },
  {
   "cell_type": "markdown",
   "id": "64696402-ce95-40bd-a5cd-b299a8721637",
   "metadata": {},
   "source": [
    "### Wczytanie danych"
   ]
  },
  {
   "cell_type": "code",
   "execution_count": 1,
   "id": "6e88d4d6-aa02-4435-95a5-027fb207fbe5",
   "metadata": {},
   "outputs": [
    {
     "name": "stdout",
     "output_type": "stream",
     "text": [
      "jovyan\n"
     ]
    }
   ],
   "source": [
    "\n",
    "user_name = 'jovyan'\n",
    "print(user_name)"
   ]
  },
  {
   "cell_type": "code",
   "execution_count": 2,
   "id": "687789a1-11dd-4d3f-a6d4-72b7f7d83d07",
   "metadata": {},
   "outputs": [],
   "source": [
    "from pyspark.sql import SparkSession\n",
    "spark = SparkSession \\\n",
    ".builder \\\n",
    ".config(\"spark.executor.instances\", \"4\")\\\n",
    ".config('spark.driver.memory','1g') \\\n",
    ".config('spark.executor.memory', '2g') \\\n",
    ".getOrCreate()"
   ]
  },
  {
   "cell_type": "code",
   "execution_count": 3,
   "id": "f0ba4ab2-4d42-41a3-a309-d4c5da0fcf24",
   "metadata": {},
   "outputs": [],
   "source": [
    "# ścieżka dostępu do pliku \n",
    "csv_path = 'file:////home/jovyan/data/2020/survey_results_public.csv'"
   ]
  },
  {
   "cell_type": "code",
   "execution_count": 4,
   "id": "cfcfb867-e6ad-4653-b595-c0e832e6807e",
   "metadata": {},
   "outputs": [],
   "source": [
    "db_name = user_name.replace('-','_')"
   ]
  },
  {
   "cell_type": "code",
   "execution_count": 5,
   "id": "ea65c1c9-ccfd-4265-8321-ae4d320b3383",
   "metadata": {},
   "outputs": [
    {
     "data": {
      "text/plain": [
       "DataFrame[]"
      ]
     },
     "execution_count": 5,
     "metadata": {},
     "output_type": "execute_result"
    }
   ],
   "source": [
    "spark.sql(f'DROP DATABASE IF EXISTS {db_name} CASCADE')\n",
    "spark.sql(f'CREATE DATABASE {db_name}')\n",
    "spark.sql(f'USE {db_name}')"
   ]
  },
  {
   "cell_type": "code",
   "execution_count": 6,
   "id": "a21e67dc-3711-46a7-8781-c2c66a125ed7",
   "metadata": {},
   "outputs": [
    {
     "name": "stdout",
     "output_type": "stream",
     "text": [
      "jovyan\n"
     ]
    }
   ],
   "source": [
    "print(db_name)"
   ]
  },
  {
   "cell_type": "code",
   "execution_count": 7,
   "id": "a25b139a-49d5-4951-b6bd-761b7163a813",
   "metadata": {},
   "outputs": [],
   "source": [
    "table_name = \"survey_2020\"            "
   ]
  },
  {
   "cell_type": "code",
   "execution_count": 8,
   "id": "3ab641a1-12b4-449d-985c-8a1d1e509bf0",
   "metadata": {},
   "outputs": [
    {
     "data": {
      "text/plain": [
       "DataFrame[]"
      ]
     },
     "execution_count": 8,
     "metadata": {},
     "output_type": "execute_result"
    }
   ],
   "source": [
    "spark.sql(f'DROP TABLE IF EXISTS {table_name}')\n",
    "\n",
    "spark.sql(f'CREATE TABLE IF NOT EXISTS {table_name} \\\n",
    "          USING csv \\\n",
    "          OPTIONS (HEADER true, INFERSCHEMA true, NULLVALUE \"NA\") \\\n",
    "          LOCATION \"{csv_path}\"')"
   ]
  },
  {
   "cell_type": "code",
   "execution_count": 9,
   "id": "409e1e6f-ca3b-48c0-9282-e3492fdd86dd",
   "metadata": {},
   "outputs": [
    {
     "name": "stdout",
     "output_type": "stream",
     "text": [
      "+--------------------+---------+-------+\n",
      "|            col_name|data_type|comment|\n",
      "+--------------------+---------+-------+\n",
      "|          Respondent|      int|   null|\n",
      "|          MainBranch|   string|   null|\n",
      "|            Hobbyist|   string|   null|\n",
      "|                 Age|   double|   null|\n",
      "|          Age1stCode|   string|   null|\n",
      "|            CompFreq|   string|   null|\n",
      "|           CompTotal|   double|   null|\n",
      "|       ConvertedComp|   double|   null|\n",
      "|             Country|   string|   null|\n",
      "|        CurrencyDesc|   string|   null|\n",
      "|      CurrencySymbol|   string|   null|\n",
      "|DatabaseDesireNex...|   string|   null|\n",
      "|  DatabaseWorkedWith|   string|   null|\n",
      "|             DevType|   string|   null|\n",
      "|             EdLevel|   string|   null|\n",
      "|          Employment|   string|   null|\n",
      "|           Ethnicity|   string|   null|\n",
      "|              Gender|   string|   null|\n",
      "|          JobFactors|   string|   null|\n",
      "|              JobSat|   string|   null|\n",
      "|             JobSeek|   string|   null|\n",
      "|LanguageDesireNex...|   string|   null|\n",
      "|  LanguageWorkedWith|   string|   null|\n",
      "|MiscTechDesireNex...|   string|   null|\n",
      "|  MiscTechWorkedWith|   string|   null|\n",
      "|NEWCollabToolsDes...|   string|   null|\n",
      "|NEWCollabToolsWor...|   string|   null|\n",
      "|           NEWDevOps|   string|   null|\n",
      "|       NEWDevOpsImpt|   string|   null|\n",
      "|           NEWEdImpt|   string|   null|\n",
      "|          NEWJobHunt|   string|   null|\n",
      "|  NEWJobHuntResearch|   string|   null|\n",
      "|            NEWLearn|   string|   null|\n",
      "|         NEWOffTopic|   string|   null|\n",
      "|      NEWOnboardGood|   string|   null|\n",
      "|       NEWOtherComms|   string|   null|\n",
      "|         NEWOvertime|   string|   null|\n",
      "| NEWPurchaseResearch|   string|   null|\n",
      "|       NEWPurpleLink|   string|   null|\n",
      "|          NEWSOSites|   string|   null|\n",
      "|            NEWStuck|   string|   null|\n",
      "|               OpSys|   string|   null|\n",
      "|             OrgSize|   string|   null|\n",
      "|PlatformDesireNex...|   string|   null|\n",
      "|  PlatformWorkedWith|   string|   null|\n",
      "|        PurchaseWhat|   string|   null|\n",
      "|           Sexuality|   string|   null|\n",
      "|           SOAccount|   string|   null|\n",
      "|              SOComm|   string|   null|\n",
      "|          SOPartFreq|   string|   null|\n",
      "|         SOVisitFreq|   string|   null|\n",
      "|          SurveyEase|   string|   null|\n",
      "|        SurveyLength|   string|   null|\n",
      "|               Trans|   string|   null|\n",
      "|      UndergradMajor|   string|   null|\n",
      "|WebframeDesireNex...|   string|   null|\n",
      "|  WebframeWorkedWith|   string|   null|\n",
      "|       WelcomeChange|   string|   null|\n",
      "|         WorkWeekHrs|   double|   null|\n",
      "|           YearsCode|   string|   null|\n",
      "|        YearsCodePro|   string|   null|\n",
      "+--------------------+---------+-------+\n",
      "\n"
     ]
    }
   ],
   "source": [
    "spark.sql(f'describe {table_name}').show(100)"
   ]
  },
  {
   "cell_type": "code",
   "execution_count": null,
   "id": "a31bd0cb-da46-411d-9494-5b81299dfa89",
   "metadata": {},
   "outputs": [],
   "source": []
  },
  {
   "cell_type": "markdown",
   "id": "c09e9915-b70d-46b9-bacc-dfc3024db7d6",
   "metadata": {},
   "source": [
    "### Przygotowanie danych do analizy\n",
    "\n",
    "W ramach zadania chcemy stworzyć klasyfikator, który będzie przewidywać czy respondent zarabia więcej niż 60000 USD rocznie."
   ]
  },
  {
   "cell_type": "code",
   "execution_count": 10,
   "id": "b49d3560-3e93-4875-9456-270ef5f80b83",
   "metadata": {},
   "outputs": [],
   "source": [
    "spark_df = spark.sql(f'SELECT *, CAST((convertedComp > 60000) AS STRING) AS compAboveAvg \\\n",
    "                    FROM {table_name} where convertedComp IS NOT NULL ')"
   ]
  },
  {
   "cell_type": "code",
   "execution_count": 11,
   "id": "0125ff9d-fed9-4c32-b676-fc9d2de7c609",
   "metadata": {},
   "outputs": [],
   "source": [
    "y = 'compAboveAvg'\n",
    "# na podstawie:\n",
    "feature_columns = ['OpSys', 'EdLevel', 'MainBranch' , 'Country', 'JobSeek', 'YearsCode']"
   ]
  },
  {
   "cell_type": "markdown",
   "id": "c2d241aa-cdf1-47c3-9d0e-5b7f41ff301d",
   "metadata": {},
   "source": [
    "<b>Ewaluacja </b>"
   ]
  },
  {
   "cell_type": "code",
   "execution_count": 14,
   "id": "134ec75e-55da-4e47-a723-85d1378ed5d2",
   "metadata": {},
   "outputs": [],
   "source": [
    "evaluator_AUC = BinaryClassificationEvaluator(rawPredictionCol=\"rawPrediction\", metricName=\"areaUnderROC\")\n",
    "evaluator_ACC = MulticlassClassificationEvaluator(labelCol=\"label\", predictionCol=\"prediction\", metricName=\"accuracy\")"
   ]
  },
  {
   "cell_type": "code",
   "execution_count": 15,
   "id": "f044d2db-5880-42dc-9952-9b64cf1b448c",
   "metadata": {},
   "outputs": [],
   "source": [
    "from pyspark.ml.tuning import ParamGridBuilder\n",
    "from pyspark.ml.tuning import CrossValidator"
   ]
  },
  {
   "cell_type": "markdown",
   "id": "7a1eacec-649a-49fb-894e-4d00b1deefad",
   "metadata": {},
   "source": [
    "## <span style='background:yellow'> ZADANIA - etap 2A</span>\n",
    "\n",
    "\n",
    "Odpowiedz korzystając z <b>API DF</b> lub <b>SparkSQL</b>:\n",
    "    \n",
    "a) Ile jest unikalnych odpowiedzi w zapytaniu o poziom wykształcenia (EdLevel)?\n",
    "\n",
    "b) Podaj średnią liczbę godzin przepracowywanych przez z respondentów pogrupowanych ze względu na kraj.\n",
    "\n",
    "c) Narysuj wykres słupkowy popularności wykorzystywanych baz danych przez profesjonalnych programistów. Skorzystaj z funkcji split i posexplode. \n",
    "\n",
    "d)  Sprawdź czy można bardziej poprawić jakość predykcji dla zadania z tego notatnika: \n",
    "* dodając cechy?\n",
    "* zmieniąjac model?\n",
    "* lepiej dobierajac parametry nowego modelu? \n",
    "\n",
    "e) Notatnik zawierający wyniki umieść w repozytorium zespołu w branchu phase-2a.\n"
   ]
  },
  {
   "cell_type": "code",
   "execution_count": null,
   "id": "69bd8fe1-28c2-4f3c-8016-14febe2bb7bc",
   "metadata": {},
   "outputs": [],
   "source": []
  },
  {
   "cell_type": "markdown",
   "id": "4c16d780-ff55-4d95-bb0c-83dd4b954899",
   "metadata": {},
   "source": [
    "<b>a) Ile jest unikalnych odpowiedzi w zapytaniu o poziom wykształcenia (EdLevel)? </b>"
   ]
  },
  {
   "cell_type": "code",
   "execution_count": 16,
   "id": "be278175-6eab-4445-a8b0-1e9228d7dc8c",
   "metadata": {},
   "outputs": [
    {
     "data": {
      "text/html": [
       "<div>\n",
       "<style scoped>\n",
       "    .dataframe tbody tr th:only-of-type {\n",
       "        vertical-align: middle;\n",
       "    }\n",
       "\n",
       "    .dataframe tbody tr th {\n",
       "        vertical-align: top;\n",
       "    }\n",
       "\n",
       "    .dataframe thead th {\n",
       "        text-align: right;\n",
       "    }\n",
       "</style>\n",
       "<table border=\"1\" class=\"dataframe\">\n",
       "  <thead>\n",
       "    <tr style=\"text-align: right;\">\n",
       "      <th></th>\n",
       "      <th>EdLevelCount</th>\n",
       "    </tr>\n",
       "  </thead>\n",
       "  <tbody>\n",
       "    <tr>\n",
       "      <th>0</th>\n",
       "      <td>9</td>\n",
       "    </tr>\n",
       "  </tbody>\n",
       "</table>\n",
       "</div>"
      ],
      "text/plain": [
       "   EdLevelCount\n",
       "0             9"
      ]
     },
     "execution_count": 16,
     "metadata": {},
     "output_type": "execute_result"
    }
   ],
   "source": [
    "\n",
    "spark_df = spark.sql(f'SELECT COUNT (DISTINCT EdLevel) as EdLevelCount FROM {table_name}')\n",
    "spark_df.toPandas()\n"
   ]
  },
  {
   "cell_type": "markdown",
   "id": "717d5b8b-9b41-44a3-9132-cf0e19340b27",
   "metadata": {},
   "source": [
    "ODP: Łącznie z \"brakiem wykształcenia\" jest 9 poziomów. "
   ]
  },
  {
   "cell_type": "markdown",
   "id": "5950354c-9b21-4d5e-942c-f389640c1f5c",
   "metadata": {},
   "source": [
    "<b>b) Podaj średnią liczbę godzin przepracowywanych przez z respondentów pogrupowanych ze względu na kraj </b>"
   ]
  },
  {
   "cell_type": "code",
   "execution_count": 258,
   "id": "968c22d1-4c9f-414a-9797-158107c025aa",
   "metadata": {},
   "outputs": [
    {
     "data": {
      "text/html": [
       "<div>\n",
       "<style scoped>\n",
       "    .dataframe tbody tr th:only-of-type {\n",
       "        vertical-align: middle;\n",
       "    }\n",
       "\n",
       "    .dataframe tbody tr th {\n",
       "        vertical-align: top;\n",
       "    }\n",
       "\n",
       "    .dataframe thead th {\n",
       "        text-align: right;\n",
       "    }\n",
       "</style>\n",
       "<table border=\"1\" class=\"dataframe\">\n",
       "  <thead>\n",
       "    <tr style=\"text-align: right;\">\n",
       "      <th></th>\n",
       "      <th>Country</th>\n",
       "      <th>mean(WorkWeekHrs)</th>\n",
       "    </tr>\n",
       "  </thead>\n",
       "  <tbody>\n",
       "    <tr>\n",
       "      <th>0</th>\n",
       "      <td>Afghanistan</td>\n",
       "      <td>46.500000</td>\n",
       "    </tr>\n",
       "    <tr>\n",
       "      <th>1</th>\n",
       "      <td>Albania</td>\n",
       "      <td>48.392857</td>\n",
       "    </tr>\n",
       "    <tr>\n",
       "      <th>2</th>\n",
       "      <td>Algeria</td>\n",
       "      <td>36.862069</td>\n",
       "    </tr>\n",
       "    <tr>\n",
       "      <th>3</th>\n",
       "      <td>Andorra</td>\n",
       "      <td>42.000000</td>\n",
       "    </tr>\n",
       "    <tr>\n",
       "      <th>4</th>\n",
       "      <td>Angola</td>\n",
       "      <td>72.333333</td>\n",
       "    </tr>\n",
       "    <tr>\n",
       "      <th>...</th>\n",
       "      <td>...</td>\n",
       "      <td>...</td>\n",
       "    </tr>\n",
       "    <tr>\n",
       "      <th>160</th>\n",
       "      <td>Venezuela, Bolivarian Republic of...</td>\n",
       "      <td>40.121951</td>\n",
       "    </tr>\n",
       "    <tr>\n",
       "      <th>161</th>\n",
       "      <td>Viet Nam</td>\n",
       "      <td>42.371901</td>\n",
       "    </tr>\n",
       "    <tr>\n",
       "      <th>162</th>\n",
       "      <td>Yemen</td>\n",
       "      <td>40.000000</td>\n",
       "    </tr>\n",
       "    <tr>\n",
       "      <th>163</th>\n",
       "      <td>Zambia</td>\n",
       "      <td>38.000000</td>\n",
       "    </tr>\n",
       "    <tr>\n",
       "      <th>164</th>\n",
       "      <td>Zimbabwe</td>\n",
       "      <td>39.928571</td>\n",
       "    </tr>\n",
       "  </tbody>\n",
       "</table>\n",
       "<p>165 rows × 2 columns</p>\n",
       "</div>"
      ],
      "text/plain": [
       "                                  Country  mean(WorkWeekHrs)\n",
       "0                             Afghanistan          46.500000\n",
       "1                                 Albania          48.392857\n",
       "2                                 Algeria          36.862069\n",
       "3                                 Andorra          42.000000\n",
       "4                                  Angola          72.333333\n",
       "..                                    ...                ...\n",
       "160  Venezuela, Bolivarian Republic of...          40.121951\n",
       "161                              Viet Nam          42.371901\n",
       "162                                 Yemen          40.000000\n",
       "163                                Zambia          38.000000\n",
       "164                              Zimbabwe          39.928571\n",
       "\n",
       "[165 rows x 2 columns]"
      ]
     },
     "execution_count": 258,
     "metadata": {},
     "output_type": "execute_result"
    }
   ],
   "source": [
    "\n",
    "spark_df = spark.sql(f'SELECT Country, MEAN(WorkWeekHrs) FROM {table_name} where WorkWeekHrs IS NOT NULL GROUP BY Country ORDER BY Country')\n",
    "spark_df.toPandas()\n",
    "\n"
   ]
  },
  {
   "cell_type": "markdown",
   "id": "d1e974d1-0b02-4955-aa8d-40fded1952bc",
   "metadata": {},
   "source": [
    "Wykorzystanie Spark DF Api (to samo zadanie)"
   ]
  },
  {
   "cell_type": "code",
   "execution_count": 17,
   "id": "519a2264-2ad8-41dd-b4f8-05d49def514b",
   "metadata": {},
   "outputs": [
    {
     "name": "stdout",
     "output_type": "stream",
     "text": [
      "+--------------------+------------------+\n",
      "|             Country|  avg(WorkWeekHrs)|\n",
      "+--------------------+------------------+\n",
      "|            Paraguay|            29.875|\n",
      "|The former Yugosl...|              39.5|\n",
      "|             Senegal|34.285714285714285|\n",
      "|              Sweden|  40.7496062992126|\n",
      "|  Hong Kong (S.A.R.)|42.298507462686565|\n",
      "|   Republic of Korea|35.138888888888886|\n",
      "|         Philippines| 37.32920792079208|\n",
      "|           Singapore| 40.25684931506849|\n",
      "|            Malaysia|39.255639097744364|\n",
      "|              Turkey| 43.77202643171806|\n",
      "|              Malawi|              36.5|\n",
      "|                Iraq| 49.07142857142857|\n",
      "|             Germany| 40.27298744460857|\n",
      "|         Afghanistan|              46.5|\n",
      "|            Cambodia|              44.0|\n",
      "|              Jordan|45.806451612903224|\n",
      "|            Maldives|              47.3|\n",
      "|               Sudan|36.714285714285715|\n",
      "|              France| 40.38484399375975|\n",
      "|              Greece| 41.82364341085271|\n",
      "+--------------------+------------------+\n",
      "only showing top 20 rows\n",
      "\n"
     ]
    }
   ],
   "source": [
    "df = spark.read.csv(csv_path, inferSchema=True, header=\"true\", nullValue='NA', nanValue='NA',emptyValue='NA')\n",
    "df.groupBy(\"Country\").avg(\"WorkWeekHrs\").show()"
   ]
  },
  {
   "cell_type": "markdown",
   "id": "e4790dd6-5c7c-4948-8fe7-4de580ec22b5",
   "metadata": {},
   "source": [
    "<b> c) Narysuj wykres słupkowy popularności wykorzystywanych baz danych przez\n",
    "#profesjonalnych programistów.</b>"
   ]
  },
  {
   "cell_type": "code",
   "execution_count": 19,
   "id": "02fe9568-3534-4f95-b953-984e33b9a81a",
   "metadata": {},
   "outputs": [],
   "source": [
    "from pyspark.sql.functions import posexplode\n"
   ]
  },
  {
   "cell_type": "code",
   "execution_count": 20,
   "id": "25b72599-15b7-4f65-886f-009a9b189b7e",
   "metadata": {},
   "outputs": [],
   "source": [
    "#Rodzielenie zawartosci kolumny z bazami (założyliśmy, że profesjonalni deweloperzy to tacy, ktorzy maja \n",
    "#MainBranch = 'I am a developer by profession'\n",
    "db = spark.sql(f\"SELECT POSEXPLODE(SPLIT(DatabaseWorkedWith, ';'))\\\n",
    "                        FROM {table_name}\\\n",
    "                         WHERE MainBranch = 'I am a developer by profession' \")\n"
   ]
  },
  {
   "cell_type": "code",
   "execution_count": null,
   "id": "9cb00d20-48be-4889-a244-72e87d606c29",
   "metadata": {},
   "outputs": [],
   "source": []
  },
  {
   "cell_type": "code",
   "execution_count": 40,
   "id": "7d2a29b9-fb22-4fb8-8607-454cb45d27ac",
   "metadata": {},
   "outputs": [],
   "source": [
    "stringindexer_stages = [StringIndexer(inputCol='col', outputCol='stringindexed_mapped').setHandleInvalid(\"error\")]\n",
    "db_mapped = Pipeline(stages=stringindexer_stages).fit(db).transform(db).toPandas()\n",
    "\n"
   ]
  },
  {
   "cell_type": "code",
   "execution_count": 41,
   "id": "ae38e2cb-95af-411b-a77e-a692cf826c77",
   "metadata": {},
   "outputs": [
    {
     "data": {
      "text/html": [
       "<div>\n",
       "<style scoped>\n",
       "    .dataframe tbody tr th:only-of-type {\n",
       "        vertical-align: middle;\n",
       "    }\n",
       "\n",
       "    .dataframe tbody tr th {\n",
       "        vertical-align: top;\n",
       "    }\n",
       "\n",
       "    .dataframe thead th {\n",
       "        text-align: right;\n",
       "    }\n",
       "</style>\n",
       "<table border=\"1\" class=\"dataframe\">\n",
       "  <thead>\n",
       "    <tr style=\"text-align: right;\">\n",
       "      <th></th>\n",
       "      <th>pos</th>\n",
       "      <th>col</th>\n",
       "      <th>stringindexed_mapped</th>\n",
       "    </tr>\n",
       "  </thead>\n",
       "  <tbody>\n",
       "    <tr>\n",
       "      <th>0</th>\n",
       "      <td>0</td>\n",
       "      <td>Elasticsearch</td>\n",
       "      <td>8.0</td>\n",
       "    </tr>\n",
       "    <tr>\n",
       "      <th>1</th>\n",
       "      <td>1</td>\n",
       "      <td>Microsoft SQL Server</td>\n",
       "      <td>2.0</td>\n",
       "    </tr>\n",
       "    <tr>\n",
       "      <th>2</th>\n",
       "      <td>2</td>\n",
       "      <td>Oracle</td>\n",
       "      <td>7.0</td>\n",
       "    </tr>\n",
       "    <tr>\n",
       "      <th>3</th>\n",
       "      <td>0</td>\n",
       "      <td>MariaDB</td>\n",
       "      <td>6.0</td>\n",
       "    </tr>\n",
       "    <tr>\n",
       "      <th>4</th>\n",
       "      <td>1</td>\n",
       "      <td>MySQL</td>\n",
       "      <td>0.0</td>\n",
       "    </tr>\n",
       "    <tr>\n",
       "      <th>...</th>\n",
       "      <td>...</td>\n",
       "      <td>...</td>\n",
       "      <td>...</td>\n",
       "    </tr>\n",
       "    <tr>\n",
       "      <th>108474</th>\n",
       "      <td>1</td>\n",
       "      <td>MySQL</td>\n",
       "      <td>0.0</td>\n",
       "    </tr>\n",
       "    <tr>\n",
       "      <th>108475</th>\n",
       "      <td>0</td>\n",
       "      <td>Oracle</td>\n",
       "      <td>7.0</td>\n",
       "    </tr>\n",
       "    <tr>\n",
       "      <th>108476</th>\n",
       "      <td>0</td>\n",
       "      <td>PostgreSQL</td>\n",
       "      <td>1.0</td>\n",
       "    </tr>\n",
       "    <tr>\n",
       "      <th>108477</th>\n",
       "      <td>0</td>\n",
       "      <td>Oracle</td>\n",
       "      <td>7.0</td>\n",
       "    </tr>\n",
       "    <tr>\n",
       "      <th>108478</th>\n",
       "      <td>1</td>\n",
       "      <td>SQLite</td>\n",
       "      <td>3.0</td>\n",
       "    </tr>\n",
       "  </tbody>\n",
       "</table>\n",
       "<p>108479 rows × 3 columns</p>\n",
       "</div>"
      ],
      "text/plain": [
       "        pos                   col  stringindexed_mapped\n",
       "0         0         Elasticsearch                   8.0\n",
       "1         1  Microsoft SQL Server                   2.0\n",
       "2         2                Oracle                   7.0\n",
       "3         0               MariaDB                   6.0\n",
       "4         1                 MySQL                   0.0\n",
       "...     ...                   ...                   ...\n",
       "108474    1                 MySQL                   0.0\n",
       "108475    0                Oracle                   7.0\n",
       "108476    0            PostgreSQL                   1.0\n",
       "108477    0                Oracle                   7.0\n",
       "108478    1                SQLite                   3.0\n",
       "\n",
       "[108479 rows x 3 columns]"
      ]
     },
     "execution_count": 41,
     "metadata": {},
     "output_type": "execute_result"
    }
   ],
   "source": [
    "db_mapped"
   ]
  },
  {
   "cell_type": "code",
   "execution_count": 42,
   "id": "15d271ba-9b9c-47cf-b290-a660ff11567b",
   "metadata": {},
   "outputs": [
    {
     "data": {
      "text/plain": [
       "array([[<AxesSubplot: title={'center': 'stringindexed_mapped'}>]],\n",
       "      dtype=object)"
      ]
     },
     "execution_count": 42,
     "metadata": {},
     "output_type": "execute_result"
    },
    {
     "data": {
      "image/png": "[encoded data removed]",
      "text/plain": [
       "<Figure size 640x480 with 1 Axes>"
      ]
     },
     "metadata": {},
     "output_type": "display_data"
    }
   ],
   "source": [
    "db_mapped.hist('stringindexed_mapped')"
   ]
  },
  {
   "cell_type": "markdown",
   "id": "a7913201-da85-4df9-9dea-4680fdfaa572",
   "metadata": {},
   "source": [
    "<b> d)  Sprawdź czy można bardziej poprawić jakość predykcji dla zadania z tego notatnika: \n",
    "* dodając cechy?\n",
    "* zmieniąjac model?\n",
    "* lepiej dobierajac parametry nowego modelu? </b>"
   ]
  },
  {
   "cell_type": "markdown",
   "id": "f6d4eeb4-83f6-4783-8589-427b1b6668b4",
   "metadata": {},
   "source": [
    "# <b>Dodawanie cech </b>"
   ]
  },
  {
   "cell_type": "markdown",
   "id": "02879769-6848-4a0b-8fe0-141f69a7e05d",
   "metadata": {
    "jupyter": {
     "source_hidden": true
    },
    "tags": []
   },
   "source": [
    "Wczytywanie danych"
   ]
  },
  {
   "cell_type": "code",
   "execution_count": 43,
   "id": "dc1d9934-8d5b-428c-91fb-d237de939137",
   "metadata": {},
   "outputs": [],
   "source": [
    "spark_df = spark.sql(f'SELECT *, CAST((convertedComp > 60000) AS STRING) AS compAboveAvg \\\n",
    "                    FROM {table_name} where convertedComp IS NOT NULL ')"
   ]
  },
  {
   "cell_type": "markdown",
   "id": "71664ec5-19cb-40f2-935f-2f4e68fe7f4c",
   "metadata": {},
   "source": [
    "Wybór cech. Zostało dodane: 'Employment', 'Age1stCode', 'Hobbyist', 'YearsCodePro'"
   ]
  },
  {
   "cell_type": "code",
   "execution_count": 44,
   "id": "6e6364c5-71dc-42d8-9f9a-2f3ae5fdbbaa",
   "metadata": {},
   "outputs": [],
   "source": [
    "y = 'compAboveAvg'\n",
    "feature_columns = ['OpSys', 'EdLevel', 'MainBranch' , 'Country', 'JobSeek', 'YearsCode', 'Employment', 'Age1stCode', 'Hobbyist', 'YearsCodePro']"
   ]
  },
  {
   "cell_type": "markdown",
   "id": "689a7c64-f880-4049-8ee7-df62c33f3d9a",
   "metadata": {},
   "source": [
    "Tworzenie indekserów oraz onehot-encoderow"
   ]
  },
  {
   "cell_type": "code",
   "execution_count": 46,
   "id": "cf76798e-0896-4ab6-80af-0aefce86cec4",
   "metadata": {},
   "outputs": [],
   "source": [
    "stringindexer_stages = [StringIndexer(inputCol=c, outputCol='stringindexed_' + c).setHandleInvalid(\"keep\") for c in feature_columns]\n",
    "stringindexer_stages += [StringIndexer(inputCol=y, outputCol='label')]\n",
    "onehotencoder_stages = [OneHotEncoder(inputCol='stringindexed_' + c, outputCol='onehot_' + c) for c in feature_columns]\n"
   ]
  },
  {
   "cell_type": "markdown",
   "id": "4beb400e-18d1-4591-96f4-fa987ef27911",
   "metadata": {},
   "source": [
    "Tworzenie Vector assemblera"
   ]
  },
  {
   "cell_type": "code",
   "execution_count": 47,
   "id": "76449fb6-5ffd-4ed6-958a-c0130a8d1743",
   "metadata": {},
   "outputs": [],
   "source": [
    "extracted_columns = ['onehot_' + c for c in feature_columns]\n",
    "vectorassembler_stage = VectorAssembler(inputCols=extracted_columns, outputCol='features') \n"
   ]
  },
  {
   "cell_type": "code",
   "execution_count": 48,
   "id": "b1248015-e7fe-43ec-9d94-86a0df8fa94b",
   "metadata": {},
   "outputs": [],
   "source": [
    "\n",
    "final_columns = [y] + feature_columns + extracted_columns + ['features', 'label']"
   ]
  },
  {
   "cell_type": "markdown",
   "id": "bf72a038-a49c-460d-8dfd-3ff8b8d7fad1",
   "metadata": {},
   "source": [
    "Aplikowanie narzędzi na dane"
   ]
  },
  {
   "cell_type": "code",
   "execution_count": 49,
   "id": "163c5a4b-2e4c-481e-a3fd-9d45d72bf5fc",
   "metadata": {},
   "outputs": [
    {
     "data": {
      "text/html": [
       "<div>\n",
       "<style scoped>\n",
       "    .dataframe tbody tr th:only-of-type {\n",
       "        vertical-align: middle;\n",
       "    }\n",
       "\n",
       "    .dataframe tbody tr th {\n",
       "        vertical-align: top;\n",
       "    }\n",
       "\n",
       "    .dataframe thead th {\n",
       "        text-align: right;\n",
       "    }\n",
       "</style>\n",
       "<table border=\"1\" class=\"dataframe\">\n",
       "  <thead>\n",
       "    <tr style=\"text-align: right;\">\n",
       "      <th></th>\n",
       "      <th>compAboveAvg</th>\n",
       "      <th>OpSys</th>\n",
       "      <th>EdLevel</th>\n",
       "      <th>MainBranch</th>\n",
       "      <th>Country</th>\n",
       "      <th>JobSeek</th>\n",
       "      <th>YearsCode</th>\n",
       "      <th>Employment</th>\n",
       "      <th>Age1stCode</th>\n",
       "      <th>Hobbyist</th>\n",
       "      <th>...</th>\n",
       "      <th>onehot_MainBranch</th>\n",
       "      <th>onehot_Country</th>\n",
       "      <th>onehot_JobSeek</th>\n",
       "      <th>onehot_YearsCode</th>\n",
       "      <th>onehot_Employment</th>\n",
       "      <th>onehot_Age1stCode</th>\n",
       "      <th>onehot_Hobbyist</th>\n",
       "      <th>onehot_YearsCodePro</th>\n",
       "      <th>features</th>\n",
       "      <th>label</th>\n",
       "    </tr>\n",
       "  </thead>\n",
       "  <tbody>\n",
       "    <tr>\n",
       "      <th>0</th>\n",
       "      <td>true</td>\n",
       "      <td>Linux-based</td>\n",
       "      <td>Bachelor’s degree (B.A., B.S., B.Eng., etc.)</td>\n",
       "      <td>I am a developer by profession</td>\n",
       "      <td>United States</td>\n",
       "      <td>I’m not actively looking, but I am open to new...</td>\n",
       "      <td>17</td>\n",
       "      <td>Employed full-time</td>\n",
       "      <td>12</td>\n",
       "      <td>Yes</td>\n",
       "      <td>...</td>\n",
       "      <td>(1.0, 0.0)</td>\n",
       "      <td>(1.0, 0.0, 0.0, 0.0, 0.0, 0.0, 0.0, 0.0, 0.0, ...</td>\n",
       "      <td>(1.0, 0.0, 0.0)</td>\n",
       "      <td>(0.0, 0.0, 0.0, 0.0, 0.0, 0.0, 0.0, 0.0, 0.0, ...</td>\n",
       "      <td>(1.0, 0.0, 0.0)</td>\n",
       "      <td>(0.0, 0.0, 1.0, 0.0, 0.0, 0.0, 0.0, 0.0, 0.0, ...</td>\n",
       "      <td>(1.0, 0.0)</td>\n",
       "      <td>(0.0, 0.0, 0.0, 0.0, 0.0, 0.0, 0.0, 0.0, 0.0, ...</td>\n",
       "      <td>(0.0, 0.0, 1.0, 0.0, 1.0, 0.0, 0.0, 0.0, 0.0, ...</td>\n",
       "      <td>1.0</td>\n",
       "    </tr>\n",
       "    <tr>\n",
       "      <th>1</th>\n",
       "      <td>false</td>\n",
       "      <td>Windows</td>\n",
       "      <td>Master’s degree (M.A., M.S., M.Eng., MBA, etc.)</td>\n",
       "      <td>I am a developer by profession</td>\n",
       "      <td>United Kingdom</td>\n",
       "      <td>I’m not actively looking, but I am open to new...</td>\n",
       "      <td>8</td>\n",
       "      <td>Employed full-time</td>\n",
       "      <td>14</td>\n",
       "      <td>Yes</td>\n",
       "      <td>...</td>\n",
       "      <td>(1.0, 0.0)</td>\n",
       "      <td>(0.0, 0.0, 1.0, 0.0, 0.0, 0.0, 0.0, 0.0, 0.0, ...</td>\n",
       "      <td>(1.0, 0.0, 0.0)</td>\n",
       "      <td>(0.0, 1.0, 0.0, 0.0, 0.0, 0.0, 0.0, 0.0, 0.0, ...</td>\n",
       "      <td>(1.0, 0.0, 0.0)</td>\n",
       "      <td>(1.0, 0.0, 0.0, 0.0, 0.0, 0.0, 0.0, 0.0, 0.0, ...</td>\n",
       "      <td>(1.0, 0.0)</td>\n",
       "      <td>(0.0, 0.0, 0.0, 1.0, 0.0, 0.0, 0.0, 0.0, 0.0, ...</td>\n",
       "      <td>(1.0, 0.0, 0.0, 0.0, 0.0, 1.0, 0.0, 0.0, 0.0, ...</td>\n",
       "      <td>0.0</td>\n",
       "    </tr>\n",
       "    <tr>\n",
       "      <th>2</th>\n",
       "      <td>false</td>\n",
       "      <td>Windows</td>\n",
       "      <td>Bachelor’s degree (B.A., B.S., B.Eng., etc.)</td>\n",
       "      <td>I am a developer by profession</td>\n",
       "      <td>United Kingdom</td>\n",
       "      <td>I am actively looking for a job</td>\n",
       "      <td>10</td>\n",
       "      <td>Employed full-time</td>\n",
       "      <td>13</td>\n",
       "      <td>Yes</td>\n",
       "      <td>...</td>\n",
       "      <td>(1.0, 0.0)</td>\n",
       "      <td>(0.0, 0.0, 1.0, 0.0, 0.0, 0.0, 0.0, 0.0, 0.0, ...</td>\n",
       "      <td>(0.0, 0.0, 1.0)</td>\n",
       "      <td>(1.0, 0.0, 0.0, 0.0, 0.0, 0.0, 0.0, 0.0, 0.0, ...</td>\n",
       "      <td>(1.0, 0.0, 0.0)</td>\n",
       "      <td>(0.0, 0.0, 0.0, 0.0, 0.0, 1.0, 0.0, 0.0, 0.0, ...</td>\n",
       "      <td>(1.0, 0.0)</td>\n",
       "      <td>(0.0, 1.0, 0.0, 0.0, 0.0, 0.0, 0.0, 0.0, 0.0, ...</td>\n",
       "      <td>(1.0, 0.0, 0.0, 0.0, 1.0, 0.0, 0.0, 0.0, 0.0, ...</td>\n",
       "      <td>0.0</td>\n",
       "    </tr>\n",
       "    <tr>\n",
       "      <th>3</th>\n",
       "      <td>false</td>\n",
       "      <td>Windows</td>\n",
       "      <td>Some college/university study without earning ...</td>\n",
       "      <td>I am a developer by profession</td>\n",
       "      <td>Spain</td>\n",
       "      <td>I’m not actively looking, but I am open to new...</td>\n",
       "      <td>7</td>\n",
       "      <td>Employed full-time</td>\n",
       "      <td>42</td>\n",
       "      <td>No</td>\n",
       "      <td>...</td>\n",
       "      <td>(1.0, 0.0)</td>\n",
       "      <td>(0.0, 0.0, 0.0, 0.0, 0.0, 0.0, 0.0, 0.0, 0.0, ...</td>\n",
       "      <td>(1.0, 0.0, 0.0)</td>\n",
       "      <td>(0.0, 0.0, 0.0, 1.0, 0.0, 0.0, 0.0, 0.0, 0.0, ...</td>\n",
       "      <td>(1.0, 0.0, 0.0)</td>\n",
       "      <td>(0.0, 0.0, 0.0, 0.0, 0.0, 0.0, 0.0, 0.0, 0.0, ...</td>\n",
       "      <td>(0.0, 1.0)</td>\n",
       "      <td>(0.0, 0.0, 0.0, 0.0, 0.0, 0.0, 0.0, 0.0, 1.0, ...</td>\n",
       "      <td>(1.0, 0.0, 0.0, 0.0, 0.0, 0.0, 1.0, 0.0, 0.0, ...</td>\n",
       "      <td>0.0</td>\n",
       "    </tr>\n",
       "    <tr>\n",
       "      <th>4</th>\n",
       "      <td>false</td>\n",
       "      <td>MacOS</td>\n",
       "      <td>Secondary school (e.g. American high school, G...</td>\n",
       "      <td>I am not primarily a developer, but I write co...</td>\n",
       "      <td>Netherlands</td>\n",
       "      <td>I am not interested in new job opportunities</td>\n",
       "      <td>35</td>\n",
       "      <td>Employed full-time</td>\n",
       "      <td>14</td>\n",
       "      <td>Yes</td>\n",
       "      <td>...</td>\n",
       "      <td>(0.0, 1.0)</td>\n",
       "      <td>(0.0, 0.0, 0.0, 0.0, 0.0, 0.0, 0.0, 1.0, 0.0, ...</td>\n",
       "      <td>(0.0, 1.0, 0.0)</td>\n",
       "      <td>(0.0, 0.0, 0.0, 0.0, 0.0, 0.0, 0.0, 0.0, 0.0, ...</td>\n",
       "      <td>(1.0, 0.0, 0.0)</td>\n",
       "      <td>(1.0, 0.0, 0.0, 0.0, 0.0, 0.0, 0.0, 0.0, 0.0, ...</td>\n",
       "      <td>(1.0, 0.0)</td>\n",
       "      <td>(0.0, 0.0, 0.0, 0.0, 0.0, 0.0, 0.0, 0.0, 0.0, ...</td>\n",
       "      <td>(0.0, 1.0, 0.0, 0.0, 0.0, 0.0, 0.0, 1.0, 0.0, ...</td>\n",
       "      <td>0.0</td>\n",
       "    </tr>\n",
       "  </tbody>\n",
       "</table>\n",
       "<p>5 rows × 23 columns</p>\n",
       "</div>"
      ],
      "text/plain": [
       "  compAboveAvg        OpSys  \\\n",
       "0         true  Linux-based   \n",
       "1        false      Windows   \n",
       "2        false      Windows   \n",
       "3        false      Windows   \n",
       "4        false        MacOS   \n",
       "\n",
       "                                             EdLevel  \\\n",
       "0       Bachelor’s degree (B.A., B.S., B.Eng., etc.)   \n",
       "1    Master’s degree (M.A., M.S., M.Eng., MBA, etc.)   \n",
       "2       Bachelor’s degree (B.A., B.S., B.Eng., etc.)   \n",
       "3  Some college/university study without earning ...   \n",
       "4  Secondary school (e.g. American high school, G...   \n",
       "\n",
       "                                          MainBranch         Country  \\\n",
       "0                     I am a developer by profession   United States   \n",
       "1                     I am a developer by profession  United Kingdom   \n",
       "2                     I am a developer by profession  United Kingdom   \n",
       "3                     I am a developer by profession           Spain   \n",
       "4  I am not primarily a developer, but I write co...     Netherlands   \n",
       "\n",
       "                                             JobSeek YearsCode  \\\n",
       "0  I’m not actively looking, but I am open to new...        17   \n",
       "1  I’m not actively looking, but I am open to new...         8   \n",
       "2                    I am actively looking for a job        10   \n",
       "3  I’m not actively looking, but I am open to new...         7   \n",
       "4       I am not interested in new job opportunities        35   \n",
       "\n",
       "           Employment Age1stCode Hobbyist  ... onehot_MainBranch  \\\n",
       "0  Employed full-time         12      Yes  ...        (1.0, 0.0)   \n",
       "1  Employed full-time         14      Yes  ...        (1.0, 0.0)   \n",
       "2  Employed full-time         13      Yes  ...        (1.0, 0.0)   \n",
       "3  Employed full-time         42       No  ...        (1.0, 0.0)   \n",
       "4  Employed full-time         14      Yes  ...        (0.0, 1.0)   \n",
       "\n",
       "                                      onehot_Country   onehot_JobSeek  \\\n",
       "0  (1.0, 0.0, 0.0, 0.0, 0.0, 0.0, 0.0, 0.0, 0.0, ...  (1.0, 0.0, 0.0)   \n",
       "1  (0.0, 0.0, 1.0, 0.0, 0.0, 0.0, 0.0, 0.0, 0.0, ...  (1.0, 0.0, 0.0)   \n",
       "2  (0.0, 0.0, 1.0, 0.0, 0.0, 0.0, 0.0, 0.0, 0.0, ...  (0.0, 0.0, 1.0)   \n",
       "3  (0.0, 0.0, 0.0, 0.0, 0.0, 0.0, 0.0, 0.0, 0.0, ...  (1.0, 0.0, 0.0)   \n",
       "4  (0.0, 0.0, 0.0, 0.0, 0.0, 0.0, 0.0, 1.0, 0.0, ...  (0.0, 1.0, 0.0)   \n",
       "\n",
       "                                    onehot_YearsCode onehot_Employment  \\\n",
       "0  (0.0, 0.0, 0.0, 0.0, 0.0, 0.0, 0.0, 0.0, 0.0, ...   (1.0, 0.0, 0.0)   \n",
       "1  (0.0, 1.0, 0.0, 0.0, 0.0, 0.0, 0.0, 0.0, 0.0, ...   (1.0, 0.0, 0.0)   \n",
       "2  (1.0, 0.0, 0.0, 0.0, 0.0, 0.0, 0.0, 0.0, 0.0, ...   (1.0, 0.0, 0.0)   \n",
       "3  (0.0, 0.0, 0.0, 1.0, 0.0, 0.0, 0.0, 0.0, 0.0, ...   (1.0, 0.0, 0.0)   \n",
       "4  (0.0, 0.0, 0.0, 0.0, 0.0, 0.0, 0.0, 0.0, 0.0, ...   (1.0, 0.0, 0.0)   \n",
       "\n",
       "                                   onehot_Age1stCode onehot_Hobbyist  \\\n",
       "0  (0.0, 0.0, 1.0, 0.0, 0.0, 0.0, 0.0, 0.0, 0.0, ...      (1.0, 0.0)   \n",
       "1  (1.0, 0.0, 0.0, 0.0, 0.0, 0.0, 0.0, 0.0, 0.0, ...      (1.0, 0.0)   \n",
       "2  (0.0, 0.0, 0.0, 0.0, 0.0, 1.0, 0.0, 0.0, 0.0, ...      (1.0, 0.0)   \n",
       "3  (0.0, 0.0, 0.0, 0.0, 0.0, 0.0, 0.0, 0.0, 0.0, ...      (0.0, 1.0)   \n",
       "4  (1.0, 0.0, 0.0, 0.0, 0.0, 0.0, 0.0, 0.0, 0.0, ...      (1.0, 0.0)   \n",
       "\n",
       "                                 onehot_YearsCodePro  \\\n",
       "0  (0.0, 0.0, 0.0, 0.0, 0.0, 0.0, 0.0, 0.0, 0.0, ...   \n",
       "1  (0.0, 0.0, 0.0, 1.0, 0.0, 0.0, 0.0, 0.0, 0.0, ...   \n",
       "2  (0.0, 1.0, 0.0, 0.0, 0.0, 0.0, 0.0, 0.0, 0.0, ...   \n",
       "3  (0.0, 0.0, 0.0, 0.0, 0.0, 0.0, 0.0, 0.0, 1.0, ...   \n",
       "4  (0.0, 0.0, 0.0, 0.0, 0.0, 0.0, 0.0, 0.0, 0.0, ...   \n",
       "\n",
       "                                            features label  \n",
       "0  (0.0, 0.0, 1.0, 0.0, 1.0, 0.0, 0.0, 0.0, 0.0, ...   1.0  \n",
       "1  (1.0, 0.0, 0.0, 0.0, 0.0, 1.0, 0.0, 0.0, 0.0, ...   0.0  \n",
       "2  (1.0, 0.0, 0.0, 0.0, 1.0, 0.0, 0.0, 0.0, 0.0, ...   0.0  \n",
       "3  (1.0, 0.0, 0.0, 0.0, 0.0, 0.0, 1.0, 0.0, 0.0, ...   0.0  \n",
       "4  (0.0, 1.0, 0.0, 0.0, 0.0, 0.0, 0.0, 1.0, 0.0, ...   0.0  \n",
       "\n",
       "[5 rows x 23 columns]"
      ]
     },
     "execution_count": 49,
     "metadata": {},
     "output_type": "execute_result"
    }
   ],
   "source": [
    "\n",
    "transformed_df = Pipeline(stages=stringindexer_stages + \\\n",
    "                          onehotencoder_stages + \\\n",
    "                          [vectorassembler_stage]).fit(spark_df).transform(spark_df).select(final_columns)\n",
    "\n",
    "transformed_df.limit(5).toPandas()"
   ]
  },
  {
   "cell_type": "markdown",
   "id": "ce0ffe2a-0770-4a2c-9042-fe4a7fc6b961",
   "metadata": {},
   "source": [
    "Dzielenie na zbiór treninogwy i testowy"
   ]
  },
  {
   "cell_type": "code",
   "execution_count": 50,
   "id": "96f3327f-89da-4acd-85a8-423701bb09d6",
   "metadata": {},
   "outputs": [],
   "source": [
    "training, test = transformed_df.randomSplit([0.8, 0.2], seed=1234)"
   ]
  },
  {
   "cell_type": "markdown",
   "id": "f71e0997-49e8-417f-8002-6747f273f124",
   "metadata": {},
   "source": [
    "Tworzenie instancji modelu"
   ]
  },
  {
   "cell_type": "code",
   "execution_count": 51,
   "id": "9b6dacbf-297e-4b47-9860-c43e2e69d338",
   "metadata": {},
   "outputs": [],
   "source": [
    "from pyspark.ml.classification import DecisionTreeClassifier\n",
    "dt = DecisionTreeClassifier(featuresCol='features', labelCol='label')"
   ]
  },
  {
   "cell_type": "code",
   "execution_count": 53,
   "id": "c2a57849-ed9f-4aa8-860b-278734a5d347",
   "metadata": {},
   "outputs": [],
   "source": [
    "simple_model = Pipeline(stages=[dt]).fit(training)\n"
   ]
  },
  {
   "cell_type": "markdown",
   "id": "21175869-d258-4f5e-8557-75b132bc301a",
   "metadata": {},
   "source": [
    "Predykcja na zbiorze testowym"
   ]
  },
  {
   "cell_type": "code",
   "execution_count": 54,
   "id": "e59e6319-c82b-44ac-8d75-c8a02c6c3719",
   "metadata": {},
   "outputs": [],
   "source": [
    "pred_simple = simple_model.transform(test)"
   ]
  },
  {
   "cell_type": "markdown",
   "id": "21b75514-f2f1-4ba6-81d1-0a4fd40973f1",
   "metadata": {},
   "source": [
    "Crossvalidacja"
   ]
  },
  {
   "cell_type": "code",
   "execution_count": 81,
   "id": "55d53914-32ca-438b-8003-a3d128d06228",
   "metadata": {},
   "outputs": [],
   "source": [
    "from pyspark.ml.tuning import ParamGridBuilder\n",
    "from pyspark.ml.tuning import CrossValidator\n",
    "param_grid = ParamGridBuilder().\\\n",
    "    addGrid(dt.maxDepth, [2,3,4,5,6]).\\\n",
    "    build()\n",
    "\n",
    "cv = CrossValidator(estimator=dt, estimatorParamMaps=param_grid, evaluator=evaluator_AUC, numFolds=4)\n",
    "cv_model = cv.fit(training)\n",
    "pred_cv = cv_model.transform(test)\n"
   ]
  },
  {
   "cell_type": "markdown",
   "id": "debd10df-0a90-4ac5-80fd-9389bef97b5d",
   "metadata": {},
   "source": [
    "Miary jakości"
   ]
  },
  {
   "cell_type": "code",
   "execution_count": 143,
   "id": "0bf9d07a-e9c7-4a73-8556-52e7e5ad3de9",
   "metadata": {},
   "outputs": [
    {
     "name": "stderr",
     "output_type": "stream",
     "text": [
      "/tmp/ipykernel_126/2296730402.py:3: FutureWarning: The frame.append method is deprecated and will be removed from pandas in a future version. Use pandas.concat instead.\n",
      "  results_df = results_df.append(original_results, ignore_index = True)\n"
     ]
    },
    {
     "data": {
      "text/html": [
       "<div>\n",
       "<style scoped>\n",
       "    .dataframe tbody tr th:only-of-type {\n",
       "        vertical-align: middle;\n",
       "    }\n",
       "\n",
       "    .dataframe tbody tr th {\n",
       "        vertical-align: top;\n",
       "    }\n",
       "\n",
       "    .dataframe thead th {\n",
       "        text-align: right;\n",
       "    }\n",
       "</style>\n",
       "<table border=\"1\" class=\"dataframe\">\n",
       "  <thead>\n",
       "    <tr style=\"text-align: right;\">\n",
       "      <th></th>\n",
       "      <th>model</th>\n",
       "      <th>AUC</th>\n",
       "      <th>ACC</th>\n",
       "      <th>AUC_CV</th>\n",
       "      <th>ACC_CV</th>\n",
       "    </tr>\n",
       "  </thead>\n",
       "  <tbody>\n",
       "    <tr>\n",
       "      <th>0</th>\n",
       "      <td>original</td>\n",
       "      <td>0.584945</td>\n",
       "      <td>0.78115</td>\n",
       "      <td>0.680272</td>\n",
       "      <td>0.756638</td>\n",
       "    </tr>\n",
       "  </tbody>\n",
       "</table>\n",
       "</div>"
      ],
      "text/plain": [
       "      model       AUC      ACC    AUC_CV    ACC_CV\n",
       "0  original  0.584945  0.78115  0.680272  0.756638"
      ]
     },
     "execution_count": 143,
     "metadata": {},
     "output_type": "execute_result"
    }
   ],
   "source": [
    "results_df = pd.DataFrame(columns = ['model','AUC', 'ACC', 'AUC_CV', 'ACC_CV'])\n",
    "original_results = {'model': 'original', 'AUC':0.5849450757845746, 'ACC': 0.7811496936095711 , 'AUC_CV':0.6802717764826989 , 'ACC_CV': 0.756638459293843  }\n",
    "results_df = results_df.append(original_results, ignore_index = True)\n",
    "results_df"
   ]
  },
  {
   "cell_type": "code",
   "execution_count": 83,
   "id": "7294cf7a-4bd6-44aa-b220-a6607e34b071",
   "metadata": {},
   "outputs": [
    {
     "name": "stderr",
     "output_type": "stream",
     "text": [
      "/tmp/ipykernel_126/3658009221.py:13: FutureWarning: The frame.append method is deprecated and will be removed from pandas in a future version. Use pandas.concat instead.\n",
      "  results_df = results_df.append(added_feature, ignore_index = True)\n"
     ]
    },
    {
     "data": {
      "text/html": [
       "<div>\n",
       "<style scoped>\n",
       "    .dataframe tbody tr th:only-of-type {\n",
       "        vertical-align: middle;\n",
       "    }\n",
       "\n",
       "    .dataframe tbody tr th {\n",
       "        vertical-align: top;\n",
       "    }\n",
       "\n",
       "    .dataframe thead th {\n",
       "        text-align: right;\n",
       "    }\n",
       "</style>\n",
       "<table border=\"1\" class=\"dataframe\">\n",
       "  <thead>\n",
       "    <tr style=\"text-align: right;\">\n",
       "      <th></th>\n",
       "      <th>model</th>\n",
       "      <th>AUC</th>\n",
       "      <th>ACC</th>\n",
       "      <th>AUC_CV</th>\n",
       "      <th>ACC_CV</th>\n",
       "    </tr>\n",
       "  </thead>\n",
       "  <tbody>\n",
       "    <tr>\n",
       "      <th>0</th>\n",
       "      <td>original</td>\n",
       "      <td>0.584945</td>\n",
       "      <td>0.781150</td>\n",
       "      <td>0.680272</td>\n",
       "      <td>0.756638</td>\n",
       "    </tr>\n",
       "    <tr>\n",
       "      <th>1</th>\n",
       "      <td>added feature</td>\n",
       "      <td>0.681640</td>\n",
       "      <td>0.792092</td>\n",
       "      <td>0.769210</td>\n",
       "      <td>0.774730</td>\n",
       "    </tr>\n",
       "  </tbody>\n",
       "</table>\n",
       "</div>"
      ],
      "text/plain": [
       "           model       AUC       ACC    AUC_CV    ACC_CV\n",
       "0       original  0.584945  0.781150  0.680272  0.756638\n",
       "1  added feature  0.681640  0.792092  0.769210  0.774730"
      ]
     },
     "execution_count": 83,
     "metadata": {},
     "output_type": "execute_result"
    }
   ],
   "source": [
    "accuracy = evaluator_ACC.evaluate(pred_simple)\n",
    "# print(f\"accuracy {accuracy}\")\n",
    "auroc = evaluator_AUC.evaluate(pred_simple)\n",
    "# print(f\"auc {auroc_simple}\")\n",
    "\n",
    "accuracy_cv = evaluator_ACC.evaluate(pred_cv)\n",
    "# print(f\"accuracy CV: {accuracy_cv}\")\n",
    "auroc_cv = evaluator_AUC.evaluate(pred_cv)\n",
    "# print(f\"auc CV: {auroc_cv}\")\n",
    "\n",
    "\n",
    "added_feature= {'model': 'added feature', 'AUC':auroc_simple, 'ACC': accuracy , 'AUC_CV':auroc_cv, 'ACC_CV': accuracy_cv   }\n",
    "results_df = results_df.append(added_feature, ignore_index = True)\n",
    "results_df"
   ]
  },
  {
   "cell_type": "markdown",
   "id": "2f0d660a-bc91-4e20-ac92-9a9282486e64",
   "metadata": {},
   "source": [
    "Dodanie nowych cech przyczynia się do lepszych wyników dla modelu."
   ]
  },
  {
   "cell_type": "markdown",
   "id": "279147ef-d5c9-4075-848f-4c48bf1bfd5a",
   "metadata": {},
   "source": [
    "# <b>Zmiana cech </b>\n",
    "\n",
    "Postanowiliśmi nie indeksować zmiennych numerycznych (które mogą nieśc za sobą informacje - takich jak ilośc przepracowanego czasu), aby sprawdzić czy poprawi to jakośc predykcji"
   ]
  },
  {
   "cell_type": "markdown",
   "id": "3f028b82-27de-4154-8eb6-02aeebacee3e",
   "metadata": {
    "tags": []
   },
   "source": [
    "Wczytywanie danych"
   ]
  },
  {
   "cell_type": "code",
   "execution_count": 129,
   "id": "911e1dca-ddc9-41c4-8ee2-c57254f32154",
   "metadata": {},
   "outputs": [],
   "source": [
    "spark_df = spark.sql(f'SELECT *, CAST((convertedComp > 60000) AS STRING) AS compAboveAvg \\\n",
    "                    FROM {table_name} where convertedComp IS NOT NULL ')"
   ]
  },
  {
   "cell_type": "markdown",
   "id": "f3a5e419-9552-45f2-af2b-24d043e9cfc0",
   "metadata": {},
   "source": [
    "Wybór cech. Postanowniono nie indeksować ['YearsCode','Age1stCode','YearsCodePro']"
   ]
  },
  {
   "cell_type": "code",
   "execution_count": 130,
   "id": "0617db78-4510-4a52-a3de-d64aecc7baf6",
   "metadata": {},
   "outputs": [],
   "source": [
    "y = 'compAboveAvg'\n",
    "feature_columns = ['OpSys', 'EdLevel', 'MainBranch' , 'Country', 'JobSeek', 'YearsCode', 'Employment', 'Age1stCode', 'Hobbyist', 'YearsCodePro']\n",
    "feature_to_index = ['OpSys', 'EdLevel', 'MainBranch' , 'Country', 'JobSeek', 'Employment','Hobbyist']\n",
    "feature_no_index = ['YearsCode','Age1stCode','YearsCodePro']"
   ]
  },
  {
   "cell_type": "markdown",
   "id": "783dfa3b-8a8d-4230-ab9e-e3cbd5525eab",
   "metadata": {},
   "source": [
    "Zmiana typu danych na int dla kolumn numerycznych oraz zastąpienie braków wartości zerami"
   ]
  },
  {
   "cell_type": "code",
   "execution_count": 131,
   "id": "427eb916-4ac6-4b5c-bae5-63c2dff11b89",
   "metadata": {},
   "outputs": [],
   "source": [
    "from pyspark.sql.types import IntegerType\n",
    "for feature in feature_no_index:       \n",
    "    spark_df = spark_df.withColumn(feature, spark_df[feature].cast(IntegerType()))\n",
    "    spark_df = spark_df.na.fill(0, subset = [feature])"
   ]
  },
  {
   "cell_type": "markdown",
   "id": "acb3ce87-41a7-405b-b6cd-1626add5434a",
   "metadata": {},
   "source": [
    "Tworzenie indekserów oraz onehot-encoderow"
   ]
  },
  {
   "cell_type": "code",
   "execution_count": 132,
   "id": "30f9cb60-8b9d-496b-a3c3-fb4156547200",
   "metadata": {},
   "outputs": [],
   "source": [
    "stringindexer_stages = [StringIndexer(inputCol=c, outputCol='stringindexed_' + c).setHandleInvalid(\"keep\") for c in feature_to_index]\n",
    "stringindexer_stages += [StringIndexer(inputCol=y, outputCol='label')]\n",
    "feature_to_encode = ['stringindexed_' + c for c in feature_to_index] \n",
    "onehotencoder_stages = [OneHotEncoder(inputCol= c, outputCol='onehot_' + c) for c in feature_to_encode] "
   ]
  },
  {
   "cell_type": "markdown",
   "id": "d75df1a6-661a-4fb6-abbc-4b060ef91c94",
   "metadata": {},
   "source": [
    "Tworzenie Vector assemblera"
   ]
  },
  {
   "cell_type": "code",
   "execution_count": 133,
   "id": "b9c4a037-4cf7-4a4d-a66b-5c7edd6fd548",
   "metadata": {},
   "outputs": [],
   "source": [
    "extracted_columns = ['onehot_' + c for c in feature_to_encode] + feature_no_index\n",
    "vectorassembler_stage = VectorAssembler(inputCols= extracted_columns, outputCol='features')\n"
   ]
  },
  {
   "cell_type": "code",
   "execution_count": 134,
   "id": "2638703d-8c03-48cc-88dc-673abab72127",
   "metadata": {},
   "outputs": [],
   "source": [
    "\n",
    "final_columns = [y] + feature_columns + extracted_columns + ['features', 'label']"
   ]
  },
  {
   "cell_type": "markdown",
   "id": "ccc5b8c5-e23f-4dbd-8bb2-b9a27ed79105",
   "metadata": {},
   "source": [
    "Aplikowanie narzędzi na dane"
   ]
  },
  {
   "cell_type": "code",
   "execution_count": 135,
   "id": "94c79dce-b3e6-4945-bbf1-2142fae3819b",
   "metadata": {},
   "outputs": [
    {
     "data": {
      "text/html": [
       "<div>\n",
       "<style scoped>\n",
       "    .dataframe tbody tr th:only-of-type {\n",
       "        vertical-align: middle;\n",
       "    }\n",
       "\n",
       "    .dataframe tbody tr th {\n",
       "        vertical-align: top;\n",
       "    }\n",
       "\n",
       "    .dataframe thead th {\n",
       "        text-align: right;\n",
       "    }\n",
       "</style>\n",
       "<table border=\"1\" class=\"dataframe\">\n",
       "  <thead>\n",
       "    <tr style=\"text-align: right;\">\n",
       "      <th></th>\n",
       "      <th>Respondent</th>\n",
       "      <th>MainBranch</th>\n",
       "      <th>Hobbyist</th>\n",
       "      <th>Age</th>\n",
       "      <th>Age1stCode</th>\n",
       "      <th>CompFreq</th>\n",
       "      <th>CompTotal</th>\n",
       "      <th>ConvertedComp</th>\n",
       "      <th>Country</th>\n",
       "      <th>CurrencyDesc</th>\n",
       "      <th>...</th>\n",
       "      <th>stringindexed_Hobbyist</th>\n",
       "      <th>label</th>\n",
       "      <th>onehot_stringindexed_OpSys</th>\n",
       "      <th>onehot_stringindexed_EdLevel</th>\n",
       "      <th>onehot_stringindexed_MainBranch</th>\n",
       "      <th>onehot_stringindexed_Country</th>\n",
       "      <th>onehot_stringindexed_JobSeek</th>\n",
       "      <th>onehot_stringindexed_Employment</th>\n",
       "      <th>onehot_stringindexed_Hobbyist</th>\n",
       "      <th>features</th>\n",
       "    </tr>\n",
       "  </thead>\n",
       "  <tbody>\n",
       "    <tr>\n",
       "      <th>0</th>\n",
       "      <td>8</td>\n",
       "      <td>I am a developer by profession</td>\n",
       "      <td>Yes</td>\n",
       "      <td>36.0</td>\n",
       "      <td>12</td>\n",
       "      <td>Yearly</td>\n",
       "      <td>116000.0</td>\n",
       "      <td>116000.0</td>\n",
       "      <td>United States</td>\n",
       "      <td>United States dollar</td>\n",
       "      <td>...</td>\n",
       "      <td>0.0</td>\n",
       "      <td>1.0</td>\n",
       "      <td>(0.0, 0.0, 1.0, 0.0)</td>\n",
       "      <td>(1.0, 0.0, 0.0, 0.0, 0.0, 0.0, 0.0, 0.0, 0.0)</td>\n",
       "      <td>(1.0, 0.0)</td>\n",
       "      <td>(1.0, 0.0, 0.0, 0.0, 0.0, 0.0, 0.0, 0.0, 0.0, ...</td>\n",
       "      <td>(1.0, 0.0, 0.0)</td>\n",
       "      <td>(1.0, 0.0, 0.0)</td>\n",
       "      <td>(1.0, 0.0)</td>\n",
       "      <td>(0.0, 0.0, 1.0, 0.0, 1.0, 0.0, 0.0, 0.0, 0.0, ...</td>\n",
       "    </tr>\n",
       "    <tr>\n",
       "      <th>1</th>\n",
       "      <td>10</td>\n",
       "      <td>I am a developer by profession</td>\n",
       "      <td>Yes</td>\n",
       "      <td>22.0</td>\n",
       "      <td>14</td>\n",
       "      <td>Yearly</td>\n",
       "      <td>25000.0</td>\n",
       "      <td>32315.0</td>\n",
       "      <td>United Kingdom</td>\n",
       "      <td>Pound sterling</td>\n",
       "      <td>...</td>\n",
       "      <td>0.0</td>\n",
       "      <td>0.0</td>\n",
       "      <td>(1.0, 0.0, 0.0, 0.0)</td>\n",
       "      <td>(0.0, 1.0, 0.0, 0.0, 0.0, 0.0, 0.0, 0.0, 0.0)</td>\n",
       "      <td>(1.0, 0.0)</td>\n",
       "      <td>(0.0, 0.0, 1.0, 0.0, 0.0, 0.0, 0.0, 0.0, 0.0, ...</td>\n",
       "      <td>(1.0, 0.0, 0.0)</td>\n",
       "      <td>(1.0, 0.0, 0.0)</td>\n",
       "      <td>(1.0, 0.0)</td>\n",
       "      <td>(1.0, 0.0, 0.0, 0.0, 0.0, 1.0, 0.0, 0.0, 0.0, ...</td>\n",
       "    </tr>\n",
       "    <tr>\n",
       "      <th>2</th>\n",
       "      <td>11</td>\n",
       "      <td>I am a developer by profession</td>\n",
       "      <td>Yes</td>\n",
       "      <td>23.0</td>\n",
       "      <td>13</td>\n",
       "      <td>Yearly</td>\n",
       "      <td>31000.0</td>\n",
       "      <td>40070.0</td>\n",
       "      <td>United Kingdom</td>\n",
       "      <td>Pound sterling</td>\n",
       "      <td>...</td>\n",
       "      <td>0.0</td>\n",
       "      <td>0.0</td>\n",
       "      <td>(1.0, 0.0, 0.0, 0.0)</td>\n",
       "      <td>(1.0, 0.0, 0.0, 0.0, 0.0, 0.0, 0.0, 0.0, 0.0)</td>\n",
       "      <td>(1.0, 0.0)</td>\n",
       "      <td>(0.0, 0.0, 1.0, 0.0, 0.0, 0.0, 0.0, 0.0, 0.0, ...</td>\n",
       "      <td>(0.0, 0.0, 1.0)</td>\n",
       "      <td>(1.0, 0.0, 0.0)</td>\n",
       "      <td>(1.0, 0.0)</td>\n",
       "      <td>(1.0, 0.0, 0.0, 0.0, 1.0, 0.0, 0.0, 0.0, 0.0, ...</td>\n",
       "    </tr>\n",
       "    <tr>\n",
       "      <th>3</th>\n",
       "      <td>12</td>\n",
       "      <td>I am a developer by profession</td>\n",
       "      <td>No</td>\n",
       "      <td>49.0</td>\n",
       "      <td>42</td>\n",
       "      <td>Monthly</td>\n",
       "      <td>1100.0</td>\n",
       "      <td>14268.0</td>\n",
       "      <td>Spain</td>\n",
       "      <td>European Euro</td>\n",
       "      <td>...</td>\n",
       "      <td>1.0</td>\n",
       "      <td>0.0</td>\n",
       "      <td>(1.0, 0.0, 0.0, 0.0)</td>\n",
       "      <td>(0.0, 0.0, 1.0, 0.0, 0.0, 0.0, 0.0, 0.0, 0.0)</td>\n",
       "      <td>(1.0, 0.0)</td>\n",
       "      <td>(0.0, 0.0, 0.0, 0.0, 0.0, 0.0, 0.0, 0.0, 0.0, ...</td>\n",
       "      <td>(1.0, 0.0, 0.0)</td>\n",
       "      <td>(1.0, 0.0, 0.0)</td>\n",
       "      <td>(0.0, 1.0)</td>\n",
       "      <td>(1.0, 0.0, 0.0, 0.0, 0.0, 0.0, 1.0, 0.0, 0.0, ...</td>\n",
       "    </tr>\n",
       "    <tr>\n",
       "      <th>4</th>\n",
       "      <td>13</td>\n",
       "      <td>I am not primarily a developer, but I write co...</td>\n",
       "      <td>Yes</td>\n",
       "      <td>53.0</td>\n",
       "      <td>14</td>\n",
       "      <td>Monthly</td>\n",
       "      <td>3000.0</td>\n",
       "      <td>38916.0</td>\n",
       "      <td>Netherlands</td>\n",
       "      <td>European Euro</td>\n",
       "      <td>...</td>\n",
       "      <td>0.0</td>\n",
       "      <td>0.0</td>\n",
       "      <td>(0.0, 1.0, 0.0, 0.0)</td>\n",
       "      <td>(0.0, 0.0, 0.0, 1.0, 0.0, 0.0, 0.0, 0.0, 0.0)</td>\n",
       "      <td>(0.0, 1.0)</td>\n",
       "      <td>(0.0, 0.0, 0.0, 0.0, 0.0, 0.0, 0.0, 1.0, 0.0, ...</td>\n",
       "      <td>(0.0, 1.0, 0.0)</td>\n",
       "      <td>(1.0, 0.0, 0.0)</td>\n",
       "      <td>(1.0, 0.0)</td>\n",
       "      <td>(0.0, 1.0, 0.0, 0.0, 0.0, 0.0, 0.0, 1.0, 0.0, ...</td>\n",
       "    </tr>\n",
       "  </tbody>\n",
       "</table>\n",
       "<p>5 rows × 78 columns</p>\n",
       "</div>"
      ],
      "text/plain": [
       "   Respondent                                         MainBranch Hobbyist  \\\n",
       "0           8                     I am a developer by profession      Yes   \n",
       "1          10                     I am a developer by profession      Yes   \n",
       "2          11                     I am a developer by profession      Yes   \n",
       "3          12                     I am a developer by profession       No   \n",
       "4          13  I am not primarily a developer, but I write co...      Yes   \n",
       "\n",
       "    Age  Age1stCode CompFreq  CompTotal  ConvertedComp         Country  \\\n",
       "0  36.0          12   Yearly   116000.0       116000.0   United States   \n",
       "1  22.0          14   Yearly    25000.0        32315.0  United Kingdom   \n",
       "2  23.0          13   Yearly    31000.0        40070.0  United Kingdom   \n",
       "3  49.0          42  Monthly     1100.0        14268.0           Spain   \n",
       "4  53.0          14  Monthly     3000.0        38916.0     Netherlands   \n",
       "\n",
       "           CurrencyDesc  ... stringindexed_Hobbyist label  \\\n",
       "0  United States dollar  ...                    0.0   1.0   \n",
       "1        Pound sterling  ...                    0.0   0.0   \n",
       "2        Pound sterling  ...                    0.0   0.0   \n",
       "3         European Euro  ...                    1.0   0.0   \n",
       "4         European Euro  ...                    0.0   0.0   \n",
       "\n",
       "  onehot_stringindexed_OpSys                   onehot_stringindexed_EdLevel  \\\n",
       "0       (0.0, 0.0, 1.0, 0.0)  (1.0, 0.0, 0.0, 0.0, 0.0, 0.0, 0.0, 0.0, 0.0)   \n",
       "1       (1.0, 0.0, 0.0, 0.0)  (0.0, 1.0, 0.0, 0.0, 0.0, 0.0, 0.0, 0.0, 0.0)   \n",
       "2       (1.0, 0.0, 0.0, 0.0)  (1.0, 0.0, 0.0, 0.0, 0.0, 0.0, 0.0, 0.0, 0.0)   \n",
       "3       (1.0, 0.0, 0.0, 0.0)  (0.0, 0.0, 1.0, 0.0, 0.0, 0.0, 0.0, 0.0, 0.0)   \n",
       "4       (0.0, 1.0, 0.0, 0.0)  (0.0, 0.0, 0.0, 1.0, 0.0, 0.0, 0.0, 0.0, 0.0)   \n",
       "\n",
       "  onehot_stringindexed_MainBranch  \\\n",
       "0                      (1.0, 0.0)   \n",
       "1                      (1.0, 0.0)   \n",
       "2                      (1.0, 0.0)   \n",
       "3                      (1.0, 0.0)   \n",
       "4                      (0.0, 1.0)   \n",
       "\n",
       "                        onehot_stringindexed_Country  \\\n",
       "0  (1.0, 0.0, 0.0, 0.0, 0.0, 0.0, 0.0, 0.0, 0.0, ...   \n",
       "1  (0.0, 0.0, 1.0, 0.0, 0.0, 0.0, 0.0, 0.0, 0.0, ...   \n",
       "2  (0.0, 0.0, 1.0, 0.0, 0.0, 0.0, 0.0, 0.0, 0.0, ...   \n",
       "3  (0.0, 0.0, 0.0, 0.0, 0.0, 0.0, 0.0, 0.0, 0.0, ...   \n",
       "4  (0.0, 0.0, 0.0, 0.0, 0.0, 0.0, 0.0, 1.0, 0.0, ...   \n",
       "\n",
       "  onehot_stringindexed_JobSeek onehot_stringindexed_Employment  \\\n",
       "0              (1.0, 0.0, 0.0)                 (1.0, 0.0, 0.0)   \n",
       "1              (1.0, 0.0, 0.0)                 (1.0, 0.0, 0.0)   \n",
       "2              (0.0, 0.0, 1.0)                 (1.0, 0.0, 0.0)   \n",
       "3              (1.0, 0.0, 0.0)                 (1.0, 0.0, 0.0)   \n",
       "4              (0.0, 1.0, 0.0)                 (1.0, 0.0, 0.0)   \n",
       "\n",
       "  onehot_stringindexed_Hobbyist  \\\n",
       "0                    (1.0, 0.0)   \n",
       "1                    (1.0, 0.0)   \n",
       "2                    (1.0, 0.0)   \n",
       "3                    (0.0, 1.0)   \n",
       "4                    (1.0, 0.0)   \n",
       "\n",
       "                                            features  \n",
       "0  (0.0, 0.0, 1.0, 0.0, 1.0, 0.0, 0.0, 0.0, 0.0, ...  \n",
       "1  (1.0, 0.0, 0.0, 0.0, 0.0, 1.0, 0.0, 0.0, 0.0, ...  \n",
       "2  (1.0, 0.0, 0.0, 0.0, 1.0, 0.0, 0.0, 0.0, 0.0, ...  \n",
       "3  (1.0, 0.0, 0.0, 0.0, 0.0, 0.0, 1.0, 0.0, 0.0, ...  \n",
       "4  (0.0, 1.0, 0.0, 0.0, 0.0, 0.0, 0.0, 1.0, 0.0, ...  \n",
       "\n",
       "[5 rows x 78 columns]"
      ]
     },
     "execution_count": 135,
     "metadata": {},
     "output_type": "execute_result"
    }
   ],
   "source": [
    "\n",
    "transformed_df = Pipeline(stages=stringindexer_stages + \\\n",
    "                          onehotencoder_stages +\\\n",
    "                          [vectorassembler_stage]).fit(spark_df).transform(spark_df)\n",
    "transformed_df.limit(5).toPandas()"
   ]
  },
  {
   "cell_type": "markdown",
   "id": "81fa44f6-cce7-4ff0-98ae-b2d8271aa532",
   "metadata": {},
   "source": [
    "Dzielenie na zbiór treninogwy i testowy"
   ]
  },
  {
   "cell_type": "code",
   "execution_count": 136,
   "id": "21db6462-5e96-4dd2-9d32-ead31dbf3184",
   "metadata": {},
   "outputs": [],
   "source": [
    "training, test = transformed_df.randomSplit([0.8, 0.2], seed=1234)"
   ]
  },
  {
   "cell_type": "markdown",
   "id": "27a74255-7bc0-45a8-bdc1-75a9688cc9c0",
   "metadata": {},
   "source": [
    "Tworzenie instancji modelu"
   ]
  },
  {
   "cell_type": "code",
   "execution_count": 137,
   "id": "3f17483d-50ea-4fc6-afc3-228b1d1358b2",
   "metadata": {
    "tags": []
   },
   "outputs": [],
   "source": [
    "from pyspark.ml.classification import DecisionTreeClassifier\n",
    "dt = DecisionTreeClassifier(featuresCol='features', labelCol='label')"
   ]
  },
  {
   "cell_type": "code",
   "execution_count": 138,
   "id": "4bfb4bf5-415e-4c90-ac02-7d282789f845",
   "metadata": {},
   "outputs": [],
   "source": [
    "simple_model = Pipeline(stages=[dt]).fit(training)\n"
   ]
  },
  {
   "cell_type": "markdown",
   "id": "8d6c3909-9e8f-4033-8e96-009d118a267b",
   "metadata": {},
   "source": [
    "Predykcja na zbiorze testowym"
   ]
  },
  {
   "cell_type": "code",
   "execution_count": 139,
   "id": "cdbbbcf7-15f3-436a-9ef9-786aea0c8e01",
   "metadata": {},
   "outputs": [],
   "source": [
    "pred_simple = simple_model.transform(test)"
   ]
  },
  {
   "cell_type": "markdown",
   "id": "1445dea1-68f8-46a2-aa28-a7269a7672ae",
   "metadata": {},
   "source": [
    "Crossvalidacja"
   ]
  },
  {
   "cell_type": "code",
   "execution_count": 140,
   "id": "cc6d5091-5b12-4940-91f9-ec0d1aba758a",
   "metadata": {},
   "outputs": [],
   "source": [
    "from pyspark.ml.tuning import ParamGridBuilder\n",
    "from pyspark.ml.tuning import CrossValidator\n",
    "param_grid = ParamGridBuilder().\\\n",
    "    addGrid(dt.maxDepth, [2,3,4,5,6]).\\\n",
    "    build()\n",
    "\n",
    "cv = CrossValidator(estimator=dt, estimatorParamMaps=param_grid, evaluator=evaluator_AUC, numFolds=4)\n",
    "cv_model = cv.fit(training)\n",
    "pred_cv = cv_model.transform(test)\n"
   ]
  },
  {
   "cell_type": "markdown",
   "id": "737cef92-a9a7-45c4-872f-aef427b272a2",
   "metadata": {},
   "source": [
    "Miary jakości"
   ]
  },
  {
   "cell_type": "code",
   "execution_count": 144,
   "id": "847122c0-3d07-440e-bd9a-88deb9670f23",
   "metadata": {},
   "outputs": [
    {
     "name": "stderr",
     "output_type": "stream",
     "text": [
      "/tmp/ipykernel_126/3432520056.py:14: FutureWarning: The frame.append method is deprecated and will be removed from pandas in a future version. Use pandas.concat instead.\n",
      "  results_df = results_df.append(changed_feature, ignore_index = True)\n"
     ]
    },
    {
     "data": {
      "text/html": [
       "<div>\n",
       "<style scoped>\n",
       "    .dataframe tbody tr th:only-of-type {\n",
       "        vertical-align: middle;\n",
       "    }\n",
       "\n",
       "    .dataframe tbody tr th {\n",
       "        vertical-align: top;\n",
       "    }\n",
       "\n",
       "    .dataframe thead th {\n",
       "        text-align: right;\n",
       "    }\n",
       "</style>\n",
       "<table border=\"1\" class=\"dataframe\">\n",
       "  <thead>\n",
       "    <tr style=\"text-align: right;\">\n",
       "      <th></th>\n",
       "      <th>model</th>\n",
       "      <th>AUC</th>\n",
       "      <th>ACC</th>\n",
       "      <th>AUC_CV</th>\n",
       "      <th>ACC_CV</th>\n",
       "    </tr>\n",
       "  </thead>\n",
       "  <tbody>\n",
       "    <tr>\n",
       "      <th>0</th>\n",
       "      <td>original</td>\n",
       "      <td>0.584945</td>\n",
       "      <td>0.781150</td>\n",
       "      <td>0.680272</td>\n",
       "      <td>0.756638</td>\n",
       "    </tr>\n",
       "    <tr>\n",
       "      <th>1</th>\n",
       "      <td>changed feature</td>\n",
       "      <td>0.691247</td>\n",
       "      <td>0.792092</td>\n",
       "      <td>0.769210</td>\n",
       "      <td>0.774730</td>\n",
       "    </tr>\n",
       "  </tbody>\n",
       "</table>\n",
       "</div>"
      ],
      "text/plain": [
       "             model       AUC       ACC    AUC_CV    ACC_CV\n",
       "0         original  0.584945  0.781150  0.680272  0.756638\n",
       "1  changed feature  0.691247  0.792092  0.769210  0.774730"
      ]
     },
     "execution_count": 144,
     "metadata": {},
     "output_type": "execute_result"
    }
   ],
   "source": [
    "accuracy = evaluator_ACC.evaluate(pred_simple)\n",
    "#print(f\"accuracy {accuracy}\")\n",
    "auroc_simple = evaluator_AUC.evaluate(pred_simple)\n",
    "#print(f\"auc {auroc_simple}\")\n",
    "\n",
    "pred_cv = cv_model.transform(test)\n",
    "accuracy_cv = evaluator_ACC.evaluate(pred_cv)\n",
    "# print(f\"accuracy CV: {accuracy}\")\n",
    "auroc_cv = evaluator_AUC.evaluate(pred_cv)\n",
    "# print(f\"auc CV: {auroc_simple}\")\n",
    "\n",
    "\n",
    "changed_feature= {'model': 'changed feature', 'AUC':auroc_simple, 'ACC': accuracy , 'AUC_CV':auroc_cv, 'ACC_CV': accuracy_cv   }\n",
    "results_df = results_df.append(changed_feature, ignore_index = True)\n",
    "results_df"
   ]
  },
  {
   "cell_type": "markdown",
   "id": "723982d9-4247-4496-a27f-42ab53d8c219",
   "metadata": {},
   "source": [
    "Zmiana cech przyczynilła się do dość dużego wzrostu AUC. "
   ]
  },
  {
   "cell_type": "markdown",
   "id": "91bd5176-d2d5-4e0a-aab5-dffb0c16056b",
   "metadata": {},
   "source": [
    "# <b> Zmiana modelu </b>"
   ]
  },
  {
   "cell_type": "markdown",
   "id": "14362ebf-5ad6-4fe4-82a4-adc9560e4700",
   "metadata": {},
   "source": [
    "GBTrees"
   ]
  },
  {
   "cell_type": "code",
   "execution_count": 145,
   "id": "f5a2a214-27e8-4724-80bd-07e0e4e18974",
   "metadata": {},
   "outputs": [],
   "source": [
    "from pyspark.ml.classification import GBTClassifier"
   ]
  },
  {
   "cell_type": "markdown",
   "id": "f17202f0-64ef-4f70-8621-a85ed280ae53",
   "metadata": {},
   "source": [
    "Tworzenie i trenowanie modelu"
   ]
  },
  {
   "cell_type": "code",
   "execution_count": 146,
   "id": "6587a222-a258-4e5a-97f4-f77f7d44cf5a",
   "metadata": {},
   "outputs": [],
   "source": [
    "\n",
    "gbt = GBTClassifier(labelCol=\"label\", featuresCol=\"features\", maxIter=10)\n",
    "simple_model = Pipeline(stages=[gbt]).fit(training)\n"
   ]
  },
  {
   "cell_type": "markdown",
   "id": "1b04fa3b-f705-454a-abec-6e38cec936ff",
   "metadata": {},
   "source": [
    "Predykcja na zbiorze testowym"
   ]
  },
  {
   "cell_type": "code",
   "execution_count": 147,
   "id": "26233123-ee4d-4cf9-96b8-f4712bf8122b",
   "metadata": {},
   "outputs": [],
   "source": [
    "pred_simple = simple_model.transform(test)"
   ]
  },
  {
   "cell_type": "markdown",
   "id": "f0732ddb-9d0d-4d3f-9231-9ca072b8dbb0",
   "metadata": {},
   "source": [
    "Crossvalidacja"
   ]
  },
  {
   "cell_type": "code",
   "execution_count": 148,
   "id": "a6f5b79e-1f83-4e7f-90ee-3eb05eea99a8",
   "metadata": {},
   "outputs": [],
   "source": [
    "param_grid = ParamGridBuilder().\\\n",
    "    addGrid(gbt.maxDepth, [2,3,4,5,6]).\\\n",
    "    build()\n",
    "\n",
    "cv = CrossValidator(estimator = gbt, estimatorParamMaps=param_grid, evaluator=evaluator_AUC, numFolds=4)\n",
    "cv_model = cv.fit(training)\n",
    "pred_cv = cv_model.transform(test)\n"
   ]
  },
  {
   "cell_type": "markdown",
   "id": "6223af8b-11d9-4027-8781-786231d570bf",
   "metadata": {},
   "source": [
    "Miary jakości"
   ]
  },
  {
   "cell_type": "code",
   "execution_count": 149,
   "id": "6bbd41c9-62ba-4ec1-a635-1301eed8f181",
   "metadata": {},
   "outputs": [
    {
     "name": "stderr",
     "output_type": "stream",
     "text": [
      "/tmp/ipykernel_126/463366619.py:14: FutureWarning: The frame.append method is deprecated and will be removed from pandas in a future version. Use pandas.concat instead.\n",
      "  results_df = results_df.append(gbt_results, ignore_index = True)\n"
     ]
    },
    {
     "data": {
      "text/html": [
       "<div>\n",
       "<style scoped>\n",
       "    .dataframe tbody tr th:only-of-type {\n",
       "        vertical-align: middle;\n",
       "    }\n",
       "\n",
       "    .dataframe tbody tr th {\n",
       "        vertical-align: top;\n",
       "    }\n",
       "\n",
       "    .dataframe thead th {\n",
       "        text-align: right;\n",
       "    }\n",
       "</style>\n",
       "<table border=\"1\" class=\"dataframe\">\n",
       "  <thead>\n",
       "    <tr style=\"text-align: right;\">\n",
       "      <th></th>\n",
       "      <th>model</th>\n",
       "      <th>AUC</th>\n",
       "      <th>ACC</th>\n",
       "      <th>AUC_CV</th>\n",
       "      <th>ACC_CV</th>\n",
       "    </tr>\n",
       "  </thead>\n",
       "  <tbody>\n",
       "    <tr>\n",
       "      <th>0</th>\n",
       "      <td>original</td>\n",
       "      <td>0.584945</td>\n",
       "      <td>0.781150</td>\n",
       "      <td>0.680272</td>\n",
       "      <td>0.756638</td>\n",
       "    </tr>\n",
       "    <tr>\n",
       "      <th>1</th>\n",
       "      <td>changed feature</td>\n",
       "      <td>0.691247</td>\n",
       "      <td>0.792092</td>\n",
       "      <td>0.769210</td>\n",
       "      <td>0.774730</td>\n",
       "    </tr>\n",
       "    <tr>\n",
       "      <th>2</th>\n",
       "      <td>GBTrees</td>\n",
       "      <td>0.896106</td>\n",
       "      <td>0.806682</td>\n",
       "      <td>0.904059</td>\n",
       "      <td>0.823169</td>\n",
       "    </tr>\n",
       "  </tbody>\n",
       "</table>\n",
       "</div>"
      ],
      "text/plain": [
       "             model       AUC       ACC    AUC_CV    ACC_CV\n",
       "0         original  0.584945  0.781150  0.680272  0.756638\n",
       "1  changed feature  0.691247  0.792092  0.769210  0.774730\n",
       "2          GBTrees  0.896106  0.806682  0.904059  0.823169"
      ]
     },
     "execution_count": 149,
     "metadata": {},
     "output_type": "execute_result"
    }
   ],
   "source": [
    "accuracy = evaluator_ACC.evaluate(pred_simple)\n",
    "#print(f\"accuracy {accuracy}\")\n",
    "auroc_simple = evaluator_AUC.evaluate(pred_simple)\n",
    "#print(f\"auc {auroc_simple}\")\n",
    "\n",
    "pred_cv = cv_model.transform(test)\n",
    "accuracy_cv = evaluator_ACC.evaluate(pred_cv)\n",
    "# print(f\"accuracy CV: {accuracy}\")\n",
    "auroc_cv = evaluator_AUC.evaluate(pred_cv)\n",
    "# print(f\"auc CV: {auroc_simple}\")\n",
    "\n",
    "\n",
    "gbt_results = {'model': 'GBTrees', 'AUC':auroc_simple, 'ACC': accuracy , 'AUC_CV':auroc_cv, 'ACC_CV': accuracy_cv   }\n",
    "results_df = results_df.append(gbt_results, ignore_index = True)\n",
    "results_df"
   ]
  },
  {
   "cell_type": "markdown",
   "id": "dd31ca7c-54b5-4703-ae37-2bf813305943",
   "metadata": {},
   "source": [
    "<b> SVM </b>"
   ]
  },
  {
   "cell_type": "code",
   "execution_count": 150,
   "id": "84c8018b-3b11-4076-97ab-c42a7b8d6ab2",
   "metadata": {
    "tags": []
   },
   "outputs": [],
   "source": [
    "from pyspark.ml.classification import LinearSVC\n",
    "lsvc = LinearSVC(maxIter=10, regParam=0.1)"
   ]
  },
  {
   "cell_type": "code",
   "execution_count": 151,
   "id": "69c486c6-af6d-411c-82a1-6676e03e1ef0",
   "metadata": {},
   "outputs": [],
   "source": [
    "\n",
    "simple_model = Pipeline(stages=[lsvc]).fit(training)\n"
   ]
  },
  {
   "cell_type": "markdown",
   "id": "3331b929-d552-48b4-8240-b89811c63636",
   "metadata": {},
   "source": [
    "Predykcja na zbiorze testowym"
   ]
  },
  {
   "cell_type": "code",
   "execution_count": 152,
   "id": "304f2f99-11fd-4113-8d17-5b5f2171022e",
   "metadata": {},
   "outputs": [],
   "source": [
    "pred_simple = simple_model.transform(test)"
   ]
  },
  {
   "cell_type": "markdown",
   "id": "8e866b09-9371-453e-9db1-9c9b88f88de7",
   "metadata": {},
   "source": [
    "Crossvalidacja"
   ]
  },
  {
   "cell_type": "code",
   "execution_count": 153,
   "id": "1517c9d4-1bc5-446a-8d29-885b37445b05",
   "metadata": {},
   "outputs": [],
   "source": [
    "lsvc = LinearSVC(maxIter=10)\n",
    "param_grid = ParamGridBuilder().\\\n",
    "    addGrid(lsvc.regParam, [0.1, 0.2, 0.5, 0.7, 0.9, 1]).\\\n",
    "    build()\n",
    "\n",
    "cv = CrossValidator(estimator = lsvc, estimatorParamMaps=param_grid, evaluator=evaluator_AUC, numFolds=4)\n",
    "cv_model = cv.fit(training)\n",
    "pred_cv = cv_model.transform(test)\n"
   ]
  },
  {
   "cell_type": "markdown",
   "id": "04e41c11-64e9-4d1e-b28c-c262fc6497be",
   "metadata": {},
   "source": [
    "Miary jakości"
   ]
  },
  {
   "cell_type": "code",
   "execution_count": 154,
   "id": "2a226978-c43f-4e64-8e30-e80bd3a15d10",
   "metadata": {},
   "outputs": [
    {
     "name": "stderr",
     "output_type": "stream",
     "text": [
      "/tmp/ipykernel_126/2429049388.py:14: FutureWarning: The frame.append method is deprecated and will be removed from pandas in a future version. Use pandas.concat instead.\n",
      "  results_df = results_df.append(svm_results, ignore_index = True)\n"
     ]
    },
    {
     "data": {
      "text/html": [
       "<div>\n",
       "<style scoped>\n",
       "    .dataframe tbody tr th:only-of-type {\n",
       "        vertical-align: middle;\n",
       "    }\n",
       "\n",
       "    .dataframe tbody tr th {\n",
       "        vertical-align: top;\n",
       "    }\n",
       "\n",
       "    .dataframe thead th {\n",
       "        text-align: right;\n",
       "    }\n",
       "</style>\n",
       "<table border=\"1\" class=\"dataframe\">\n",
       "  <thead>\n",
       "    <tr style=\"text-align: right;\">\n",
       "      <th></th>\n",
       "      <th>model</th>\n",
       "      <th>AUC</th>\n",
       "      <th>ACC</th>\n",
       "      <th>AUC_CV</th>\n",
       "      <th>ACC_CV</th>\n",
       "    </tr>\n",
       "  </thead>\n",
       "  <tbody>\n",
       "    <tr>\n",
       "      <th>0</th>\n",
       "      <td>original</td>\n",
       "      <td>0.584945</td>\n",
       "      <td>0.781150</td>\n",
       "      <td>0.680272</td>\n",
       "      <td>0.756638</td>\n",
       "    </tr>\n",
       "    <tr>\n",
       "      <th>1</th>\n",
       "      <td>changed feature</td>\n",
       "      <td>0.691247</td>\n",
       "      <td>0.792092</td>\n",
       "      <td>0.769210</td>\n",
       "      <td>0.774730</td>\n",
       "    </tr>\n",
       "    <tr>\n",
       "      <th>2</th>\n",
       "      <td>GBTrees</td>\n",
       "      <td>0.896106</td>\n",
       "      <td>0.806682</td>\n",
       "      <td>0.904059</td>\n",
       "      <td>0.823169</td>\n",
       "    </tr>\n",
       "    <tr>\n",
       "      <th>3</th>\n",
       "      <td>SVM</td>\n",
       "      <td>0.908952</td>\n",
       "      <td>0.818646</td>\n",
       "      <td>0.910720</td>\n",
       "      <td>0.826525</td>\n",
       "    </tr>\n",
       "  </tbody>\n",
       "</table>\n",
       "</div>"
      ],
      "text/plain": [
       "             model       AUC       ACC    AUC_CV    ACC_CV\n",
       "0         original  0.584945  0.781150  0.680272  0.756638\n",
       "1  changed feature  0.691247  0.792092  0.769210  0.774730\n",
       "2          GBTrees  0.896106  0.806682  0.904059  0.823169\n",
       "3              SVM  0.908952  0.818646  0.910720  0.826525"
      ]
     },
     "execution_count": 154,
     "metadata": {},
     "output_type": "execute_result"
    }
   ],
   "source": [
    "accuracy = evaluator_ACC.evaluate(pred_simple)\n",
    "#print(f\"accuracy {accuracy}\")\n",
    "auroc_simple = evaluator_AUC.evaluate(pred_simple)\n",
    "#print(f\"auc {auroc_simple}\")\n",
    "\n",
    "pred_cv = cv_model.transform(test)\n",
    "accuracy_cv = evaluator_ACC.evaluate(pred_cv)\n",
    "# print(f\"accuracy CV: {accuracy}\")\n",
    "auroc_cv = evaluator_AUC.evaluate(pred_cv)\n",
    "# print(f\"auc CV: {auroc_simple}\")\n",
    "\n",
    "\n",
    "svm_results = {'model': 'SVM', 'AUC':auroc_simple, 'ACC': accuracy , 'AUC_CV':auroc_cv, 'ACC_CV': accuracy_cv   }\n",
    "results_df = results_df.append(svm_results, ignore_index = True)\n",
    "results_df"
   ]
  },
  {
   "cell_type": "markdown",
   "id": "bb40cabe-9141-424d-8bbc-979af8e1db97",
   "metadata": {},
   "source": [
    "Widać, że model SVM daje w tym przypadku najlepsze rezultaty. Zmiana modelu przyniosła pozytywne rezultaty"
   ]
  },
  {
   "cell_type": "markdown",
   "id": "cd66db63-012c-4e2b-902a-d7d4cfb86143",
   "metadata": {},
   "source": [
    "<b> RandomForest </b>"
   ]
  },
  {
   "cell_type": "code",
   "execution_count": 155,
   "id": "768bb1eb-6f5b-4912-be9f-5768939b21b2",
   "metadata": {
    "tags": []
   },
   "outputs": [],
   "source": [
    "from pyspark.ml.classification import RandomForestClassifier\n",
    "rf = RandomForestClassifier(labelCol=\"label\", featuresCol=\"features\", numTrees=60)"
   ]
  },
  {
   "cell_type": "code",
   "execution_count": 156,
   "id": "b28fed42-4d40-49e2-88a6-36d79b5c2066",
   "metadata": {},
   "outputs": [],
   "source": [
    "simple_model = Pipeline(stages=[rf]).fit(training)\n"
   ]
  },
  {
   "cell_type": "markdown",
   "id": "8572144e-e4d3-429a-acd2-e11b2d8827c8",
   "metadata": {},
   "source": [
    "Predykcja na zbiorze testowym"
   ]
  },
  {
   "cell_type": "code",
   "execution_count": 157,
   "id": "6e34afbb-da8e-4265-8850-307a8c122979",
   "metadata": {},
   "outputs": [],
   "source": [
    "pred_simple = simple_model.transform(test)"
   ]
  },
  {
   "cell_type": "markdown",
   "id": "e03d7fd4-7de3-4491-b3d2-8ba8152d23f5",
   "metadata": {},
   "source": [
    "Crossvalidacja"
   ]
  },
  {
   "cell_type": "code",
   "execution_count": 158,
   "id": "90e81de6-e75a-4687-822f-e6c566e2ee85",
   "metadata": {},
   "outputs": [],
   "source": [
    "from pyspark.ml.tuning import ParamGridBuilder\n",
    "from pyspark.ml.tuning import CrossValidator\n",
    "rf = RandomForestClassifier(labelCol=\"label\", featuresCol=\"features\")\n",
    "param_grid = ParamGridBuilder().\\\n",
    "    addGrid(rf.maxDepth, [2,3,4,5,6]).\\\n",
    "    addGrid(rf.numTrees, [60,120,300]).\\\n",
    "    build()\n",
    "\n",
    "cv = CrossValidator(estimator = rf, estimatorParamMaps=param_grid, evaluator=evaluator_AUC, numFolds=4)\n",
    "cv_model = cv.fit(training)\n",
    "pred_cv = cv_model.transform(test)\n"
   ]
  },
  {
   "cell_type": "markdown",
   "id": "48aa95a9-18c0-452d-982c-5a8610554221",
   "metadata": {},
   "source": [
    "Miary jakości"
   ]
  },
  {
   "cell_type": "code",
   "execution_count": 159,
   "id": "d1a53e47-6d01-4e6b-ace8-194842364294",
   "metadata": {},
   "outputs": [
    {
     "name": "stderr",
     "output_type": "stream",
     "text": [
      "/tmp/ipykernel_126/580908923.py:14: FutureWarning: The frame.append method is deprecated and will be removed from pandas in a future version. Use pandas.concat instead.\n",
      "  results_df = results_df.append(rf_results, ignore_index = True)\n"
     ]
    },
    {
     "data": {
      "text/html": [
       "<div>\n",
       "<style scoped>\n",
       "    .dataframe tbody tr th:only-of-type {\n",
       "        vertical-align: middle;\n",
       "    }\n",
       "\n",
       "    .dataframe tbody tr th {\n",
       "        vertical-align: top;\n",
       "    }\n",
       "\n",
       "    .dataframe thead th {\n",
       "        text-align: right;\n",
       "    }\n",
       "</style>\n",
       "<table border=\"1\" class=\"dataframe\">\n",
       "  <thead>\n",
       "    <tr style=\"text-align: right;\">\n",
       "      <th></th>\n",
       "      <th>model</th>\n",
       "      <th>AUC</th>\n",
       "      <th>ACC</th>\n",
       "      <th>AUC_CV</th>\n",
       "      <th>ACC_CV</th>\n",
       "    </tr>\n",
       "  </thead>\n",
       "  <tbody>\n",
       "    <tr>\n",
       "      <th>0</th>\n",
       "      <td>original</td>\n",
       "      <td>0.584945</td>\n",
       "      <td>0.781150</td>\n",
       "      <td>0.680272</td>\n",
       "      <td>0.756638</td>\n",
       "    </tr>\n",
       "    <tr>\n",
       "      <th>1</th>\n",
       "      <td>changed feature</td>\n",
       "      <td>0.691247</td>\n",
       "      <td>0.792092</td>\n",
       "      <td>0.769210</td>\n",
       "      <td>0.774730</td>\n",
       "    </tr>\n",
       "    <tr>\n",
       "      <th>2</th>\n",
       "      <td>GBTrees</td>\n",
       "      <td>0.896106</td>\n",
       "      <td>0.806682</td>\n",
       "      <td>0.904059</td>\n",
       "      <td>0.823169</td>\n",
       "    </tr>\n",
       "    <tr>\n",
       "      <th>3</th>\n",
       "      <td>SVM</td>\n",
       "      <td>0.908952</td>\n",
       "      <td>0.818646</td>\n",
       "      <td>0.910720</td>\n",
       "      <td>0.826525</td>\n",
       "    </tr>\n",
       "    <tr>\n",
       "      <th>4</th>\n",
       "      <td>RandomForest</td>\n",
       "      <td>0.881190</td>\n",
       "      <td>0.800263</td>\n",
       "      <td>0.888384</td>\n",
       "      <td>0.807995</td>\n",
       "    </tr>\n",
       "  </tbody>\n",
       "</table>\n",
       "</div>"
      ],
      "text/plain": [
       "             model       AUC       ACC    AUC_CV    ACC_CV\n",
       "0         original  0.584945  0.781150  0.680272  0.756638\n",
       "1  changed feature  0.691247  0.792092  0.769210  0.774730\n",
       "2          GBTrees  0.896106  0.806682  0.904059  0.823169\n",
       "3              SVM  0.908952  0.818646  0.910720  0.826525\n",
       "4     RandomForest  0.881190  0.800263  0.888384  0.807995"
      ]
     },
     "execution_count": 159,
     "metadata": {},
     "output_type": "execute_result"
    }
   ],
   "source": [
    "accuracy = evaluator_ACC.evaluate(pred_simple)\n",
    "#print(f\"accuracy {accuracy}\")\n",
    "auroc_simple = evaluator_AUC.evaluate(pred_simple)\n",
    "#print(f\"auc {auroc_simple}\")\n",
    "\n",
    "pred_cv = cv_model.transform(test)\n",
    "accuracy_cv = evaluator_ACC.evaluate(pred_cv)\n",
    "# print(f\"accuracy CV: {accuracy}\")\n",
    "auroc_cv = evaluator_AUC.evaluate(pred_cv)\n",
    "# print(f\"auc CV: {auroc_simple}\")\n",
    "\n",
    "\n",
    "rf_results = {'model': 'RandomForest', 'AUC':auroc_simple, 'ACC': accuracy , 'AUC_CV':auroc_cv, 'ACC_CV': accuracy_cv   }\n",
    "results_df = results_df.append(rf_results, ignore_index = True)\n",
    "results_df"
   ]
  }
 ],
 "metadata": {
  "kernelspec": {
   "display_name": "Python 3 (ipykernel)",
   "language": "python",
   "name": "python3"
  },
  "language_info": {
   "codemirror_mode": {
    "name": "ipython",
    "version": 3
   },
   "file_extension": ".py",
   "mimetype": "text/x-python",
   "name": "python",
   "nbconvert_exporter": "python",
   "pygments_lexer": "ipython3",
   "version": "3.10.5"
  }
 },
 "nbformat": 4,
 "nbformat_minor": 5
}
