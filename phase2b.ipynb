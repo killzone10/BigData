{
 "cells": [
  {
   "cell_type": "markdown",
   "id": "6dce1163-5ad5-4137-ab36-b7d6c52bba9a",
   "metadata": {},
   "source": [
    "# Import bibliotek i tworzenie obiektów"
   ]
  },
  {
   "cell_type": "code",
   "execution_count": 1,
   "id": "f90a64c8-347b-4369-a6b4-c32bb7774e84",
   "metadata": {},
   "outputs": [],
   "source": [
    "%%capture\n",
    "pip install h2o_pysparkling_3.2"
   ]
  },
  {
   "cell_type": "code",
   "execution_count": 2,
   "id": "278bf246-60c3-4396-bfaf-6f641f67f248",
   "metadata": {},
   "outputs": [],
   "source": [
    "%%capture\n",
    "pip install synapse"
   ]
  },
  {
   "cell_type": "code",
   "execution_count": 3,
   "id": "adcc46d6-fabe-497e-b86f-6679ece28f84",
   "metadata": {},
   "outputs": [],
   "source": [
    "%%capture\n",
    "pip install synapseml"
   ]
  },
  {
   "cell_type": "code",
   "execution_count": 4,
   "id": "045b18e4-061a-41f1-900c-f6866e9cb66e",
   "metadata": {
    "tags": []
   },
   "outputs": [],
   "source": [
    "import os\n",
    "from pyspark.ml.feature import StringIndexer, OneHotEncoder, VectorAssembler\n",
    "from pyspark.ml.classification import LogisticRegression, GBTClassifier\n",
    "from pyspark.ml import Pipeline\n",
    "from pyspark.ml.evaluation import BinaryClassificationEvaluator\n",
    "from pyspark.ml.evaluation import MulticlassClassificationEvaluator\n",
    "from pyspark.sql.types import IntegerType, DoubleType\n",
    "import pyspark.sql.functions as F"
   ]
  },
  {
   "cell_type": "code",
   "execution_count": 5,
   "id": "0a780cb5-d6a0-4438-a40b-8ec924fd4f2d",
   "metadata": {},
   "outputs": [],
   "source": [
    "from sklearn.linear_model import LogisticRegression as LogisticRegression_scikit\n",
    "from sklearn.metrics import accuracy_score, f1_score, precision_score, recall_score"
   ]
  },
  {
   "cell_type": "code",
   "execution_count": 6,
   "id": "2b28a871-af30-4a49-b530-7d09669d175c",
   "metadata": {},
   "outputs": [],
   "source": [
    "import numpy as np\n",
    "import time\n",
    "import pandas as pd\n",
    "import matplotlib.pyplot as plt"
   ]
  },
  {
   "cell_type": "code",
   "execution_count": 7,
   "id": "66a4de30-5bd0-4a7f-98f5-17b93d55f565",
   "metadata": {},
   "outputs": [],
   "source": [
    "N_CORES = 12"
   ]
  },
  {
   "cell_type": "code",
   "execution_count": 8,
   "id": "c0885608-aebb-40a0-ba17-4abe2dd082c5",
   "metadata": {},
   "outputs": [],
   "source": [
    "CREATE_TIME_DATA = False  # Sterowanie tworzeniem plików z czasem wykonania modelu\n",
    "USE_SCIKIT_MODEL = True  # Sterowanie użyciem modelu Logistic Regression z sci-kit (bardzo wolny)"
   ]
  },
  {
   "cell_type": "code",
   "execution_count": 9,
   "id": "fdbbc435-cc2d-420d-b1b9-321faf3136d6",
   "metadata": {},
   "outputs": [
    {
     "name": "stdout",
     "output_type": "stream",
     "text": [
      "Connecting to H2O server at http://3ce230c0184c:54323 ... successful.\n"
     ]
    },
    {
     "data": {
      "text/html": [
       "\n",
       "<style>\n",
       "\n",
       "#h2o-table-1.h2o-container {\n",
       "  overflow-x: auto;\n",
       "}\n",
       "#h2o-table-1 .h2o-table {\n",
       "  /* width: 100%; */\n",
       "  margin-top: 1em;\n",
       "  margin-bottom: 1em;\n",
       "}\n",
       "#h2o-table-1 .h2o-table caption {\n",
       "  white-space: nowrap;\n",
       "  caption-side: top;\n",
       "  text-align: left;\n",
       "  /* margin-left: 1em; */\n",
       "  margin: 0;\n",
       "  font-size: larger;\n",
       "}\n",
       "#h2o-table-1 .h2o-table thead {\n",
       "  white-space: nowrap; \n",
       "  position: sticky;\n",
       "  top: 0;\n",
       "  box-shadow: 0 -1px inset;\n",
       "}\n",
       "#h2o-table-1 .h2o-table tbody {\n",
       "  overflow: auto;\n",
       "}\n",
       "#h2o-table-1 .h2o-table th,\n",
       "#h2o-table-1 .h2o-table td {\n",
       "  text-align: right;\n",
       "  /* border: 1px solid; */\n",
       "}\n",
       "#h2o-table-1 .h2o-table tr:nth-child(even) {\n",
       "  /* background: #F5F5F5 */\n",
       "}\n",
       "\n",
       "</style>      \n",
       "<div id=\"h2o-table-1\" class=\"h2o-container\">\n",
       "  <table class=\"h2o-table\">\n",
       "    <caption></caption>\n",
       "    <thead></thead>\n",
       "    <tbody><tr><td>H2O_cluster_uptime:</td>\n",
       "<td>06 secs</td></tr>\n",
       "<tr><td>H2O_cluster_timezone:</td>\n",
       "<td>Etc/UTC</td></tr>\n",
       "<tr><td>H2O_data_parsing_timezone:</td>\n",
       "<td>UTC</td></tr>\n",
       "<tr><td>H2O_cluster_version:</td>\n",
       "<td>3.38.0.4</td></tr>\n",
       "<tr><td>H2O_cluster_version_age:</td>\n",
       "<td>4 days </td></tr>\n",
       "<tr><td>H2O_cluster_name:</td>\n",
       "<td>sparkling-water-jovyan_local-1673289602780</td></tr>\n",
       "<tr><td>H2O_cluster_total_nodes:</td>\n",
       "<td>1</td></tr>\n",
       "<tr><td>H2O_cluster_free_memory:</td>\n",
       "<td>4 Gb</td></tr>\n",
       "<tr><td>H2O_cluster_total_cores:</td>\n",
       "<td>12</td></tr>\n",
       "<tr><td>H2O_cluster_allowed_cores:</td>\n",
       "<td>12</td></tr>\n",
       "<tr><td>H2O_cluster_status:</td>\n",
       "<td>locked, healthy</td></tr>\n",
       "<tr><td>H2O_connection_url:</td>\n",
       "<td>http://3ce230c0184c:54323</td></tr>\n",
       "<tr><td>H2O_connection_proxy:</td>\n",
       "<td>null</td></tr>\n",
       "<tr><td>H2O_internal_security:</td>\n",
       "<td>False</td></tr>\n",
       "<tr><td>Python_version:</td>\n",
       "<td>3.10.5 final</td></tr></tbody>\n",
       "  </table>\n",
       "</div>\n"
      ],
      "text/plain": [
       "--------------------------  ------------------------------------------\n",
       "H2O_cluster_uptime:         06 secs\n",
       "H2O_cluster_timezone:       Etc/UTC\n",
       "H2O_data_parsing_timezone:  UTC\n",
       "H2O_cluster_version:        3.38.0.4\n",
       "H2O_cluster_version_age:    4 days\n",
       "H2O_cluster_name:           sparkling-water-jovyan_local-1673289602780\n",
       "H2O_cluster_total_nodes:    1\n",
       "H2O_cluster_free_memory:    4 Gb\n",
       "H2O_cluster_total_cores:    12\n",
       "H2O_cluster_allowed_cores:  12\n",
       "H2O_cluster_status:         locked, healthy\n",
       "H2O_connection_url:         http://3ce230c0184c:54323\n",
       "H2O_connection_proxy:       null\n",
       "H2O_internal_security:      False\n",
       "Python_version:             3.10.5 final\n",
       "--------------------------  ------------------------------------------"
      ]
     },
     "metadata": {},
     "output_type": "display_data"
    },
    {
     "name": "stdout",
     "output_type": "stream",
     "text": [
      "\n",
      "Sparkling Water Context:\n",
      " * Sparkling Water Version: 3.38.0.4-1-3.2\n",
      " * H2O name: sparkling-water-jovyan_local-1673289602780\n",
      " * cluster size: 1\n",
      " * list of used nodes:\n",
      "  (executorId, host, port)\n",
      "  ------------------------\n",
      "  (0,172.17.0.2,54321)\n",
      "  ------------------------\n",
      "\n",
      "  Open H2O Flow in browser: http://3ce230c0184c:54323 (CMD + click in Mac OSX)\n",
      "\n",
      "    \n"
     ]
    }
   ],
   "source": [
    "import pyspark\n",
    "spark = pyspark.sql.SparkSession.builder.appName(\"tbd\") \\\n",
    ".master(f\"local[{N_CORES}]\") \\\n",
    ".config(\"spark.jars.packages\", \"com.microsoft.azure:synapseml_2.12:0.10.2\") \\\n",
    ".config(\"spark.jars.repositories\", \"https://mmlspark.azureedge.net/maven\") \\\n",
    ".config(\"spark.executor.instances\", \"2\") \\\n",
    ".config('spark.driver.memory','4g') \\\n",
    ".config('spark.executor.memory', '2g') \\\n",
    ".config(\"spark.executor.cores\", N_CORES) \\\n",
    ".getOrCreate()\n",
    "from pysparkling import *\n",
    "from pysparkling.ml import H2OGLM\n",
    "from pysparkling.ml import H2OXGBoostClassifier\n",
    "import h2o\n",
    "hc = H2OContext.getOrCreate()"
   ]
  },
  {
   "cell_type": "code",
   "execution_count": 10,
   "id": "147bdefe-d402-45a2-b793-19f7558e4b55",
   "metadata": {},
   "outputs": [],
   "source": [
    "from synapse.ml.lightgbm import LightGBMClassifier"
   ]
  },
  {
   "cell_type": "markdown",
   "id": "d475c032-3989-49c2-b37b-bf4e12e63989",
   "metadata": {},
   "source": [
    "# Wczytywanie danych i preprocessing"
   ]
  },
  {
   "cell_type": "markdown",
   "id": "3ffbff18-ee05-4dee-a963-e60d252264e1",
   "metadata": {
    "tags": []
   },
   "source": [
    "### Selekcja cech"
   ]
  },
  {
   "cell_type": "code",
   "execution_count": 11,
   "id": "ed9b05d4-457d-4038-b6bf-897bfc461513",
   "metadata": {},
   "outputs": [],
   "source": [
    "# Mały zbiór danych tylko do selekcji cech\n",
    "csv_path = 'ds1_1e4.csv'"
   ]
  },
  {
   "cell_type": "code",
   "execution_count": 12,
   "id": "1f841290-e118-4352-91cf-0c6f33566b27",
   "metadata": {},
   "outputs": [],
   "source": [
    "from sklearn.ensemble import RandomForestRegressor\n",
    "from sklearn.model_selection import train_test_split\n",
    "from sklearn.ensemble import RandomForestRegressor\n",
    "from sklearn.inspection import permutation_importance"
   ]
  },
  {
   "cell_type": "code",
   "execution_count": 13,
   "id": "059cb440-abde-4688-9f91-3abd3796f3fe",
   "metadata": {},
   "outputs": [],
   "source": [
    "spark_df = spark.read.options(header='True', inferSchema='True', delimiter=',').csv(f\"{csv_path}\")"
   ]
  },
  {
   "cell_type": "code",
   "execution_count": 14,
   "id": "f82f5a56-d4ef-44fe-8a82-18dce9d5e5a2",
   "metadata": {},
   "outputs": [],
   "source": [
    "all_features = ['V1', 'Accident_Index', 'Location_Easting_OSGR',\n",
    "       'Location_Northing_OSGR', 'Longitude', 'Latitude', 'Police_Force','Number_of_Vehicles', 'Number_of_Casualties',\n",
    "       'Date', 'Day_of_Week', 'Time', 'Local_Authority_(District)',\n",
    "       'Local_Authority_(Highway)', '1st_Road_Class', '1st_Road_Number',\n",
    "       'Road_Type', 'Speed_limit', 'Junction_Control', '2nd_Road_Class',\n",
    "       '2nd_Road_Number', 'Pedestrian_Crossing-Human_Control',\n",
    "       'Pedestrian_Crossing-Physical_Facilities', 'Light_Conditions',\n",
    "       'Weather_Conditions', 'Road_Surface_Conditions',\n",
    "       'Special_Conditions_at_Site', 'Carriageway_Hazards',\n",
    "       'Urban_or_Rural_Area', 'Did_Police_Officer_Attend_Scene_of_Accident',\n",
    "       'LSOA_of_Accident_Location', 'Year']\n",
    "indexed_columns = ['si_' + c for c in all_features]\n",
    "stringindexer_stages_fs = [StringIndexer(inputCol=c, outputCol='si_' + c).setHandleInvalid(\"keep\") for c in all_features]"
   ]
  },
  {
   "cell_type": "code",
   "execution_count": 15,
   "id": "7c436fcf-3c6c-499c-987f-9801b62517ba",
   "metadata": {},
   "outputs": [],
   "source": [
    "indexed_df = Pipeline(stages=stringindexer_stages_fs).fit(spark_df).transform(spark_df)"
   ]
  },
  {
   "cell_type": "code",
   "execution_count": 16,
   "id": "01b47abf-1601-43c0-b847-e87c5a6ffe65",
   "metadata": {},
   "outputs": [],
   "source": [
    "indexed_df = indexed_df.select(indexed_columns + ['label']).toPandas()"
   ]
  },
  {
   "cell_type": "code",
   "execution_count": 17,
   "id": "ba4bc7e6-2e2d-48bd-88b0-95ff4a91b59a",
   "metadata": {},
   "outputs": [
    {
     "data": {
      "text/html": [
       "<style>#sk-container-id-1 {color: black;background-color: white;}#sk-container-id-1 pre{padding: 0;}#sk-container-id-1 div.sk-toggleable {background-color: white;}#sk-container-id-1 label.sk-toggleable__label {cursor: pointer;display: block;width: 100%;margin-bottom: 0;padding: 0.3em;box-sizing: border-box;text-align: center;}#sk-container-id-1 label.sk-toggleable__label-arrow:before {content: \"▸\";float: left;margin-right: 0.25em;color: #696969;}#sk-container-id-1 label.sk-toggleable__label-arrow:hover:before {color: black;}#sk-container-id-1 div.sk-estimator:hover label.sk-toggleable__label-arrow:before {color: black;}#sk-container-id-1 div.sk-toggleable__content {max-height: 0;max-width: 0;overflow: hidden;text-align: left;background-color: #f0f8ff;}#sk-container-id-1 div.sk-toggleable__content pre {margin: 0.2em;color: black;border-radius: 0.25em;background-color: #f0f8ff;}#sk-container-id-1 input.sk-toggleable__control:checked~div.sk-toggleable__content {max-height: 200px;max-width: 100%;overflow: auto;}#sk-container-id-1 input.sk-toggleable__control:checked~label.sk-toggleable__label-arrow:before {content: \"▾\";}#sk-container-id-1 div.sk-estimator input.sk-toggleable__control:checked~label.sk-toggleable__label {background-color: #d4ebff;}#sk-container-id-1 div.sk-label input.sk-toggleable__control:checked~label.sk-toggleable__label {background-color: #d4ebff;}#sk-container-id-1 input.sk-hidden--visually {border: 0;clip: rect(1px 1px 1px 1px);clip: rect(1px, 1px, 1px, 1px);height: 1px;margin: -1px;overflow: hidden;padding: 0;position: absolute;width: 1px;}#sk-container-id-1 div.sk-estimator {font-family: monospace;background-color: #f0f8ff;border: 1px dotted black;border-radius: 0.25em;box-sizing: border-box;margin-bottom: 0.5em;}#sk-container-id-1 div.sk-estimator:hover {background-color: #d4ebff;}#sk-container-id-1 div.sk-parallel-item::after {content: \"\";width: 100%;border-bottom: 1px solid gray;flex-grow: 1;}#sk-container-id-1 div.sk-label:hover label.sk-toggleable__label {background-color: #d4ebff;}#sk-container-id-1 div.sk-serial::before {content: \"\";position: absolute;border-left: 1px solid gray;box-sizing: border-box;top: 0;bottom: 0;left: 50%;z-index: 0;}#sk-container-id-1 div.sk-serial {display: flex;flex-direction: column;align-items: center;background-color: white;padding-right: 0.2em;padding-left: 0.2em;position: relative;}#sk-container-id-1 div.sk-item {position: relative;z-index: 1;}#sk-container-id-1 div.sk-parallel {display: flex;align-items: stretch;justify-content: center;background-color: white;position: relative;}#sk-container-id-1 div.sk-item::before, #sk-container-id-1 div.sk-parallel-item::before {content: \"\";position: absolute;border-left: 1px solid gray;box-sizing: border-box;top: 0;bottom: 0;left: 50%;z-index: -1;}#sk-container-id-1 div.sk-parallel-item {display: flex;flex-direction: column;z-index: 1;position: relative;background-color: white;}#sk-container-id-1 div.sk-parallel-item:first-child::after {align-self: flex-end;width: 50%;}#sk-container-id-1 div.sk-parallel-item:last-child::after {align-self: flex-start;width: 50%;}#sk-container-id-1 div.sk-parallel-item:only-child::after {width: 0;}#sk-container-id-1 div.sk-dashed-wrapped {border: 1px dashed gray;margin: 0 0.4em 0.5em 0.4em;box-sizing: border-box;padding-bottom: 0.4em;background-color: white;}#sk-container-id-1 div.sk-label label {font-family: monospace;font-weight: bold;display: inline-block;line-height: 1.2em;}#sk-container-id-1 div.sk-label-container {text-align: center;}#sk-container-id-1 div.sk-container {/* jupyter's `normalize.less` sets `[hidden] { display: none; }` but bootstrap.min.css set `[hidden] { display: none !important; }` so we also need the `!important` here to be able to override the default hidden behavior on the sphinx rendered scikit-learn.org. See: https://github.com/scikit-learn/scikit-learn/issues/21755 */display: inline-block !important;position: relative;}#sk-container-id-1 div.sk-text-repr-fallback {display: none;}</style><div id=\"sk-container-id-1\" class=\"sk-top-container\"><div class=\"sk-text-repr-fallback\"><pre>RandomForestRegressor()</pre><b>In a Jupyter environment, please rerun this cell to show the HTML representation or trust the notebook. <br />On GitHub, the HTML representation is unable to render, please try loading this page with nbviewer.org.</b></div><div class=\"sk-container\" hidden><div class=\"sk-item\"><div class=\"sk-estimator sk-toggleable\"><input class=\"sk-toggleable__control sk-hidden--visually\" id=\"sk-estimator-id-1\" type=\"checkbox\" checked><label for=\"sk-estimator-id-1\" class=\"sk-toggleable__label sk-toggleable__label-arrow\">RandomForestRegressor</label><div class=\"sk-toggleable__content\"><pre>RandomForestRegressor()</pre></div></div></div></div></div>"
      ],
      "text/plain": [
       "RandomForestRegressor()"
      ]
     },
     "execution_count": 17,
     "metadata": {},
     "output_type": "execute_result"
    }
   ],
   "source": [
    "data = pd.read_csv(csv_path)\n",
    "\n",
    "X = indexed_df[indexed_columns]\n",
    "y = data['label']\n",
    "X_train, X_test, y_train, y_test = train_test_split(X, y, test_size=0.25, random_state=12)\n",
    "rf = RandomForestRegressor(n_estimators=100)\n",
    "rf.fit(X_train, y_train)"
   ]
  },
  {
   "cell_type": "code",
   "execution_count": 18,
   "id": "f23a3658-21bb-4fbd-9dd9-351ed58d5f74",
   "metadata": {},
   "outputs": [],
   "source": [
    "sorted_idx = rf.feature_importances_.argsort().astype(int)"
   ]
  },
  {
   "cell_type": "code",
   "execution_count": 19,
   "id": "f7c701ed-1792-4076-858e-c2b4cb4f617c",
   "metadata": {},
   "outputs": [],
   "source": [
    "final_features = []\n",
    "for i in sorted_idx:\n",
    "    final_features.append(indexed_columns[i])"
   ]
  },
  {
   "cell_type": "code",
   "execution_count": 20,
   "id": "cede714c-6195-418f-a376-516827a73ebf",
   "metadata": {},
   "outputs": [],
   "source": [
    "new_rf = rf.feature_importances_[sorted_idx]"
   ]
  },
  {
   "cell_type": "code",
   "execution_count": 21,
   "id": "36add325-7e7f-42df-a5b2-0f2fc825e59a",
   "metadata": {},
   "outputs": [
    {
     "data": {
      "text/plain": [
       "<BarContainer object of 32 artists>"
      ]
     },
     "execution_count": 21,
     "metadata": {},
     "output_type": "execute_result"
    },
    {
     "data": {
      "image/png": "[encoded data removed]",
      "text/plain": [
       "<Figure size 864x576 with 1 Axes>"
      ]
     },
     "metadata": {
      "needs_background": "light"
     },
     "output_type": "display_data"
    }
   ],
   "source": [
    "plt.figure(figsize=(12,8))\n",
    "plt.title('Ważność poszczególnych cech')\n",
    "plt.barh(np.flip(np.array(indexed_columns)[sorted_idx]), new_rf)"
   ]
  },
  {
   "attachments": {},
   "cell_type": "markdown",
   "id": "e918db1c",
   "metadata": {},
   "source": [
    "Powyżej znajduję się wykres na którym widać, które cechy są najmniej i najbardziej istotne dla modelu. Widać, że największy wpływ na uczenie mają wpływ takie zmienne jak Pedestrian_Crossing-Human Control, Carriageaway_Hazards, Specal_Conditions_at_Site, Urban_or_ Rural Area."
   ]
  },
  {
   "cell_type": "markdown",
   "id": "9ca93efa-a8d0-4328-8867-a4574644caa9",
   "metadata": {},
   "source": [
    "### Wczytywanie danych i preprocessing"
   ]
  },
  {
   "cell_type": "code",
   "execution_count": 22,
   "id": "80f804f5-2a81-428f-9a0d-d1e41ccad5ff",
   "metadata": {},
   "outputs": [],
   "source": [
    "csv_path = 'ds1_1e5.csv'\n",
    "if USE_SCIKIT_MODEL:\n",
    "    csv_path = 'ds1_1e5.csv'"
   ]
  },
  {
   "cell_type": "code",
   "execution_count": 23,
   "id": "77e9a315-491d-4332-a3f7-48c47f08035c",
   "metadata": {},
   "outputs": [],
   "source": [
    "spark_df = spark.read.options(header='True', inferSchema='True', delimiter=',').csv(f\"{csv_path}\")"
   ]
  },
  {
   "cell_type": "code",
   "execution_count": 24,
   "id": "cdf8dacf-f62c-47b5-a103-3191c27863e0",
   "metadata": {},
   "outputs": [],
   "source": [
    "from pyspark.sql.functions import udf\n",
    "\n",
    "def ignore_colon(x):\n",
    "    if x:\n",
    "        return x.replace(':','')\n",
    "    else:\n",
    "        return None\n",
    "\n",
    "colon_udf = udf(ignore_colon)\n",
    "\n",
    "spark_df = spark_df.withColumn('Light_Conditions', colon_udf('Light_Conditions'))"
   ]
  },
  {
   "cell_type": "code",
   "execution_count": 25,
   "id": "7c2f696e-8d2f-4a69-992b-d08021a95457",
   "metadata": {},
   "outputs": [],
   "source": [
    "# rzutowanie 'label' (boolean) na Integer\n",
    "spark_df = spark_df.withColumn('label', F.when(spark_df.label == 'false', 0).otherwise(1))"
   ]
  },
  {
   "attachments": {},
   "cell_type": "markdown",
   "id": "36bc3d84",
   "metadata": {},
   "source": [
    "Poniższe feature_columns zostało wybrane na podstawie wcześniejszej selekcji cech."
   ]
  },
  {
   "cell_type": "code",
   "execution_count": 26,
   "id": "fa70ae04-8901-4b5a-be7a-4b2e0c262e2e",
   "metadata": {},
   "outputs": [],
   "source": [
    "y = 'label'\n",
    "#Wybór kolumn używanych w modelu\n",
    "feature_columns = ['Pedestrian_Crossing-Human_Control','Carriageway_Hazards','Special_Conditions_at_Site','Urban_or_Rural_Area','Road_Surface_Conditions',\n",
    "                   'Road_Type','Junction_Control','Pedestrian_Crossing-Physical_Facilities','Light_Conditions', 'Weather_Conditions',\n",
    "                   'Did_Police_Officer_Attend_Scene_of_Accident','2nd_Road_Class', '1st_Road_Class','Speed_limit', '2nd_Road_Number',\n",
    "                   'Number_of_Vehicles','Number_of_Casualties']"
   ]
  },
  {
   "cell_type": "code",
   "execution_count": 27,
   "id": "a4a03ee4-1d76-4d4e-9e6b-f4ab56753c2b",
   "metadata": {},
   "outputs": [],
   "source": [
    "stringindexer_stages = [StringIndexer(inputCol=c, outputCol='stringindexed_' + c).setHandleInvalid(\"keep\") for c in feature_columns]\n",
    "onehotencoder_stages = [OneHotEncoder(inputCol='stringindexed_' + c, outputCol='onehot_' + c) for c in feature_columns]"
   ]
  },
  {
   "cell_type": "code",
   "execution_count": 28,
   "id": "ef3954e9-3a01-46c9-b931-347bf6427371",
   "metadata": {},
   "outputs": [],
   "source": [
    "extracted_columns = ['onehot_' + c for c in feature_columns]\n",
    "vectorassembler_stage = VectorAssembler(inputCols=extracted_columns, outputCol='features')"
   ]
  },
  {
   "cell_type": "code",
   "execution_count": 29,
   "id": "f4efe789-62a8-4db4-9be3-a44153dd36ef",
   "metadata": {},
   "outputs": [],
   "source": [
    "final_columns = [y] + feature_columns + extracted_columns + ['features']"
   ]
  },
  {
   "cell_type": "code",
   "execution_count": 30,
   "id": "13ab3889-4e2d-4b48-b358-320d82d82a65",
   "metadata": {},
   "outputs": [],
   "source": [
    "transformed_df = Pipeline(stages=stringindexer_stages + \\\n",
    "                          onehotencoder_stages + \\\n",
    "                          [vectorassembler_stage] \\\n",
    "                         ).fit(spark_df).transform(spark_df).select(final_columns)"
   ]
  },
  {
   "cell_type": "code",
   "execution_count": 31,
   "id": "5b0c6f7b-6c7e-44fd-9840-49506a6fcbdd",
   "metadata": {},
   "outputs": [],
   "source": [
    "training, test = transformed_df.randomSplit([0.8, 0.2], seed=1234)"
   ]
  },
  {
   "cell_type": "markdown",
   "id": "5d5d0a5d-eefd-4c7a-9ed2-a3cd6a32f569",
   "metadata": {},
   "source": [
    "### Transformacja danych dla modelu scikit-learn"
   ]
  },
  {
   "cell_type": "code",
   "execution_count": 32,
   "id": "3f505beb-efcd-4c76-be47-9fb5f3fc9e85",
   "metadata": {},
   "outputs": [],
   "source": [
    "if USE_SCIKIT_MODEL:\n",
    "    training_sklr = training.toPandas()\n",
    "    test_sklr = test.toPandas()\n",
    "\n",
    "    X_train = training_sklr['features'].tolist()\n",
    "    Y_train = training_sklr['label'].tolist()\n",
    "\n",
    "    X_test = test_sklr['features'].tolist()\n",
    "    Y_test = test_sklr['label'].tolist()"
   ]
  },
  {
   "cell_type": "markdown",
   "id": "e29223b7-4dbf-43a8-b593-9c5d5119ea3b",
   "metadata": {},
   "source": [
    "# Tworzenie modeli - Logistic Regression"
   ]
  },
  {
   "cell_type": "markdown",
   "id": "2fb345f7-da7d-4cf9-b386-c2993f940d16",
   "metadata": {},
   "source": [
    "#### Tworzenie metryk"
   ]
  },
  {
   "cell_type": "code",
   "execution_count": 33,
   "id": "1dfae4b4-5d64-4b5c-a588-1bef20638be3",
   "metadata": {},
   "outputs": [],
   "source": [
    "evaluator_ACC = MulticlassClassificationEvaluator(labelCol=\"label\", predictionCol=\"prediction\", metricName=\"accuracy\")\n",
    "evaluator_precision = MulticlassClassificationEvaluator(labelCol=\"label\", predictionCol=\"prediction\",\n",
    "                                                        metricName=\"precisionByLabel\", metricLabel=1.)\n",
    "evaluator_recall = MulticlassClassificationEvaluator(labelCol=\"label\", predictionCol=\"prediction\",\n",
    "                                                        metricName=\"recallByLabel\", metricLabel=1.)\n",
    "evaluator_precision_other = MulticlassClassificationEvaluator(labelCol=\"label\", predictionCol=\"prediction\",\n",
    "                                                        metricName=\"precisionByLabel\", metricLabel=0.)\n",
    "evaluator_recall_other = MulticlassClassificationEvaluator(labelCol=\"label\", predictionCol=\"prediction\",\n",
    "                                                        metricName=\"recallByLabel\", metricLabel=0.)"
   ]
  },
  {
   "cell_type": "markdown",
   "id": "c4d7c9dd-d3c3-4a14-951e-b79211093007",
   "metadata": {},
   "source": [
    "#### Pomiar czasu"
   ]
  },
  {
   "cell_type": "markdown",
   "id": "efc1d3c0-3d64-403d-9fe1-a4c2d97467c5",
   "metadata": {},
   "source": [
    "Dane nt. czasu trenowania modeli dla uruchomienia z pewną ilością rdzeni przechowywane będą w tworzonych plikach .csv. Podyktowane jest to koniecznością resetowania kernela przy zmianie ilości rdzeni."
   ]
  },
  {
   "cell_type": "code",
   "execution_count": 34,
   "id": "bfada310-c09b-4f95-a801-5fbe1573eea7",
   "metadata": {},
   "outputs": [],
   "source": [
    "time_df = pd.DataFrame(columns = ['n_cores', 'implementation','time'])"
   ]
  },
  {
   "cell_type": "markdown",
   "id": "b8d51402-c461-4826-94e8-b2976cd9f999",
   "metadata": {},
   "source": [
    "### sparkML Logistic Regression"
   ]
  },
  {
   "cell_type": "code",
   "execution_count": 35,
   "id": "9ffcd789-4946-4b71-aac5-6996d6fb28e2",
   "metadata": {},
   "outputs": [
    {
     "name": "stdout",
     "output_type": "stream",
     "text": [
      "10.877148151397705\n"
     ]
    },
    {
     "name": "stderr",
     "output_type": "stream",
     "text": [
      "The frame.append method is deprecated and will be removed from pandas in a future version. Use pandas.concat instead.\n"
     ]
    }
   ],
   "source": [
    "start = time.time()\n",
    "\n",
    "lr = LogisticRegression(featuresCol='features', labelCol='label')\n",
    "simple_model = Pipeline(stages=[lr]).fit(training)\n",
    "\n",
    "end = time.time()\n",
    "\n",
    "t = end - start\n",
    "imp_time = {'n_cores':N_CORES, 'implementation':'sparkML_LR', 'time': t}\n",
    "time_df = time_df.append(imp_time, ignore_index = True)\n",
    "print(t)"
   ]
  },
  {
   "cell_type": "code",
   "execution_count": 36,
   "id": "05da89d9-0687-4e7b-8af3-a606bf0bba52",
   "metadata": {},
   "outputs": [],
   "source": [
    "pred_simple = simple_model.transform(test)\n",
    "pred_simple = pred_simple.withColumn('prediction', pred_simple['prediction'].cast(DoubleType()))\n",
    "\n",
    "accuracy1 = evaluator_ACC.evaluate(pred_simple)\n",
    "precision1 = evaluator_precision.evaluate(pred_simple)\n",
    "recall1 = evaluator_recall.evaluate(pred_simple)\n",
    "precision1_other = evaluator_precision_other.evaluate(pred_simple)\n",
    "recall1_other = evaluator_recall_other.evaluate(pred_simple)\n",
    "f1_1 = 2*(precision1*recall1)/(precision1+recall1)"
   ]
  },
  {
   "cell_type": "markdown",
   "id": "b46ad1b0-cd6a-4dfe-826d-e900cf408876",
   "metadata": {},
   "source": [
    "### H2O Sparkling Water Logistic Regression"
   ]
  },
  {
   "cell_type": "code",
   "execution_count": 37,
   "id": "1ef230b0-792d-4227-9177-2dd039a6e77f",
   "metadata": {},
   "outputs": [
    {
     "name": "stdout",
     "output_type": "stream",
     "text": [
      "21.387706518173218\n"
     ]
    },
    {
     "name": "stderr",
     "output_type": "stream",
     "text": [
      "The frame.append method is deprecated and will be removed from pandas in a future version. Use pandas.concat instead.\n"
     ]
    }
   ],
   "source": [
    "start = time.time()\n",
    "\n",
    "lr_h2o = H2OGLM(family='binomial', featuresCols=['features'], labelCol='label', detailedPredictionCol='rawPrediction_u', seed=2137)\n",
    "simple_model_h2o = Pipeline(stages=[lr_h2o]).fit(training)\n",
    "\n",
    "end = time.time()\n",
    "\n",
    "t = end - start\n",
    "imp_time = {'n_cores':N_CORES, 'implementation':'H2O_Sparkling_Water_LR', 'time': t}\n",
    "time_df = time_df.append(imp_time, ignore_index = True)\n",
    "print(t)"
   ]
  },
  {
   "cell_type": "code",
   "execution_count": 38,
   "id": "51b9027a-9f2e-4855-8dad-689b3c3faa6d",
   "metadata": {},
   "outputs": [],
   "source": [
    "pred_simple_h2o = simple_model_h2o.transform(test)\n",
    "pred_simple_h2o = pred_simple_h2o.withColumn('prediction', pred_simple_h2o['prediction'].cast(DoubleType()))\n",
    "\n",
    "accuracy2 = evaluator_ACC.evaluate(pred_simple_h2o)\n",
    "precision2 = evaluator_precision.evaluate(pred_simple_h2o)\n",
    "recall2 = evaluator_recall.evaluate(pred_simple_h2o)\n",
    "precision2_other = evaluator_precision_other.evaluate(pred_simple_h2o)\n",
    "recall2_other = evaluator_recall_other.evaluate(pred_simple_h2o)\n",
    "f1_2 = 2*(precision2*recall2)/(precision2+recall2)"
   ]
  },
  {
   "cell_type": "markdown",
   "id": "6505d35a-d4f8-4a6e-8122-d7a00adf90af",
   "metadata": {},
   "source": [
    "### scikit-learn Logistic Regression"
   ]
  },
  {
   "cell_type": "code",
   "execution_count": 39,
   "id": "376d1087-405f-4e9b-8ac2-ee32a0c23dcd",
   "metadata": {},
   "outputs": [
    {
     "name": "stdout",
     "output_type": "stream",
     "text": [
      "1335.520060300827\n"
     ]
    },
    {
     "name": "stderr",
     "output_type": "stream",
     "text": [
      "The frame.append method is deprecated and will be removed from pandas in a future version. Use pandas.concat instead.\n"
     ]
    }
   ],
   "source": [
    "if USE_SCIKIT_MODEL:\n",
    "    start = time.time()\n",
    "\n",
    "    lr_sklr = LogisticRegression_scikit(random_state=2137, solver='lbfgs', max_iter=1000).fit(X_train, Y_train)\n",
    "\n",
    "    end = time.time()\n",
    "\n",
    "    t = end - start\n",
    "    imp_time = {'n_cores':N_CORES, 'implementation':'scikit-learn_LR', 'time': t}\n",
    "    time_df = time_df.append(imp_time, ignore_index = True)\n",
    "    print(t)"
   ]
  },
  {
   "cell_type": "code",
   "execution_count": 40,
   "id": "71f18d93-ce56-4fc5-9123-09e77107a00d",
   "metadata": {},
   "outputs": [],
   "source": [
    "if USE_SCIKIT_MODEL:\n",
    "    Y_pred = lr_sklr.predict(X_test)\n",
    "\n",
    "    accuracy3 = accuracy_score(Y_test, Y_pred)\n",
    "    f1_3 = f1_score(Y_test, Y_pred, pos_label=1)\n",
    "    precision3 = precision_score(Y_test, Y_pred, pos_label=1)\n",
    "    recall3 = recall_score(Y_test, Y_pred, pos_label=1)\n",
    "    precision3_other = precision_score(Y_test, Y_pred, pos_label=0)\n",
    "    recall3_other = recall_score(Y_test, Y_pred, pos_label=0)"
   ]
  },
  {
   "cell_type": "markdown",
   "id": "5b3a6dc2-3aae-4fe1-888a-8ee9863fef8c",
   "metadata": {},
   "source": [
    "#### Pomiar czasu"
   ]
  },
  {
   "cell_type": "code",
   "execution_count": 41,
   "id": "dfa52f31-40a4-4bea-8ad9-5abe97215bfa",
   "metadata": {},
   "outputs": [],
   "source": [
    "result_path = f\"time_res_ncores_{N_CORES}\"\n",
    "if CREATE_TIME_DATA:\n",
    "    time_df.to_csv(result_path)"
   ]
  },
  {
   "cell_type": "markdown",
   "id": "5724b785-426f-4777-97c8-69ca6ba7bc24",
   "metadata": {},
   "source": [
    "# Wyniki - Logistic Regression"
   ]
  },
  {
   "cell_type": "code",
   "execution_count": 42,
   "id": "7351fdb5-048f-49d5-839d-f5a3eb73b0f4",
   "metadata": {},
   "outputs": [
    {
     "name": "stderr",
     "output_type": "stream",
     "text": [
      "The frame.append method is deprecated and will be removed from pandas in a future version. Use pandas.concat instead.\n",
      "The frame.append method is deprecated and will be removed from pandas in a future version. Use pandas.concat instead.\n",
      "The frame.append method is deprecated and will be removed from pandas in a future version. Use pandas.concat instead.\n"
     ]
    },
    {
     "data": {
      "text/html": [
       "<div>\n",
       "<style scoped>\n",
       "    .dataframe tbody tr th:only-of-type {\n",
       "        vertical-align: middle;\n",
       "    }\n",
       "\n",
       "    .dataframe tbody tr th {\n",
       "        vertical-align: top;\n",
       "    }\n",
       "\n",
       "    .dataframe thead th {\n",
       "        text-align: right;\n",
       "    }\n",
       "</style>\n",
       "<table border=\"1\" class=\"dataframe\">\n",
       "  <thead>\n",
       "    <tr style=\"text-align: right;\">\n",
       "      <th></th>\n",
       "      <th>model</th>\n",
       "      <th>ACC</th>\n",
       "      <th>F1</th>\n",
       "      <th>Precision</th>\n",
       "      <th>Recall</th>\n",
       "      <th>Precision_zeros</th>\n",
       "      <th>Recall_zeros</th>\n",
       "    </tr>\n",
       "  </thead>\n",
       "  <tbody>\n",
       "    <tr>\n",
       "      <th>0</th>\n",
       "      <td>sparkML Logistic Regression</td>\n",
       "      <td>0.846898</td>\n",
       "      <td>0.916944</td>\n",
       "      <td>0.850336</td>\n",
       "      <td>0.994873</td>\n",
       "      <td>0.289256</td>\n",
       "      <td>0.011777</td>\n",
       "    </tr>\n",
       "    <tr>\n",
       "      <th>1</th>\n",
       "      <td>H2O Sparkling Water Logistic Regression</td>\n",
       "      <td>0.846797</td>\n",
       "      <td>0.916866</td>\n",
       "      <td>0.850464</td>\n",
       "      <td>0.994515</td>\n",
       "      <td>0.297710</td>\n",
       "      <td>0.013122</td>\n",
       "    </tr>\n",
       "    <tr>\n",
       "      <th>2</th>\n",
       "      <td>scikit-learn Logistic Regression</td>\n",
       "      <td>0.849633</td>\n",
       "      <td>0.918664</td>\n",
       "      <td>0.849823</td>\n",
       "      <td>0.999642</td>\n",
       "      <td>0.600000</td>\n",
       "      <td>0.003028</td>\n",
       "    </tr>\n",
       "  </tbody>\n",
       "</table>\n",
       "</div>"
      ],
      "text/plain": [
       "                                     model       ACC        F1  Precision  \\\n",
       "0              sparkML Logistic Regression  0.846898  0.916944   0.850336   \n",
       "1  H2O Sparkling Water Logistic Regression  0.846797  0.916866   0.850464   \n",
       "2         scikit-learn Logistic Regression  0.849633  0.918664   0.849823   \n",
       "\n",
       "     Recall  Precision_zeros  Recall_zeros  \n",
       "0  0.994873         0.289256      0.011777  \n",
       "1  0.994515         0.297710      0.013122  \n",
       "2  0.999642         0.600000      0.003028  "
      ]
     },
     "execution_count": 42,
     "metadata": {},
     "output_type": "execute_result"
    }
   ],
   "source": [
    "results_df_lr = pd.DataFrame(columns = ['model','ACC','F1','Precision','Recall','Precision_zeros','Recall_zeros'])\n",
    "\n",
    "resoults1 = {'model': 'sparkML Logistic Regression', 'ACC': accuracy1, 'F1': f1_1, 'Precision': precision1, 'Recall': recall1, 'Precision_zeros': precision1_other,'Recall_zeros': recall1_other}\n",
    "resoults2 = {'model': 'H2O Sparkling Water Logistic Regression', 'ACC': accuracy2, 'F1': f1_2, 'Precision': precision2, 'Recall': recall2, 'Precision_zeros': precision2_other,'Recall_zeros': recall2_other}\n",
    "if USE_SCIKIT_MODEL:\n",
    "    resoults3 = {'model': 'scikit-learn Logistic Regression', 'ACC': accuracy3, 'F1': f1_3, 'Precision': precision3, 'Recall': recall3, 'Precision_zeros': precision3_other,'Recall_zeros': recall3_other}\n",
    "\n",
    "results_df_lr = results_df_lr.append(resoults1, ignore_index = True)\n",
    "results_df_lr = results_df_lr.append(resoults2, ignore_index = True)\n",
    "if USE_SCIKIT_MODEL:\n",
    "    results_df_lr = results_df_lr.append(resoults3, ignore_index = True)\n",
    "\n",
    "results_df_lr"
   ]
  },
  {
   "cell_type": "markdown",
   "id": "1c9be0b3-b022-421f-9219-3fc68869735a",
   "metadata": {},
   "source": [
    "# Tworzenie modeli - GBT, XGBoost, Light-GBM"
   ]
  },
  {
   "cell_type": "markdown",
   "id": "c0605d08-238d-42b5-bda1-7654481ee7a8",
   "metadata": {},
   "source": [
    "### sparkML GBT"
   ]
  },
  {
   "cell_type": "code",
   "execution_count": 43,
   "id": "0d9595ab-25b1-441a-980c-054b88ba80d1",
   "metadata": {},
   "outputs": [
    {
     "name": "stdout",
     "output_type": "stream",
     "text": [
      "32.2990460395813\n"
     ]
    },
    {
     "name": "stderr",
     "output_type": "stream",
     "text": [
      "The frame.append method is deprecated and will be removed from pandas in a future version. Use pandas.concat instead.\n"
     ]
    }
   ],
   "source": [
    "start = time.time()\n",
    "\n",
    "gbt = GBTClassifier(labelCol=\"label\", featuresCol=\"features\", maxIter=10)\n",
    "simple_model_gbt = Pipeline(stages=[gbt]).fit(training)\n",
    "\n",
    "end = time.time()\n",
    "\n",
    "t = end - start\n",
    "imp_time = {'n_cores':N_CORES, 'implementation':'sparkML_GBT', 'time': t}\n",
    "time_df = time_df.append(imp_time, ignore_index = True)\n",
    "print(t)"
   ]
  },
  {
   "cell_type": "code",
   "execution_count": 44,
   "id": "b8a702e7-0970-44da-b1df-9df1b7d5490e",
   "metadata": {},
   "outputs": [],
   "source": [
    "pred_simple_gbt = simple_model_gbt.transform(test)\n",
    "pred_simple_gbt = pred_simple_gbt.withColumn('prediction', pred_simple_gbt['prediction'].cast(DoubleType()))\n",
    "\n",
    "accuracy1 = evaluator_ACC.evaluate(pred_simple_gbt)\n",
    "precision1 = evaluator_precision.evaluate(pred_simple_gbt)\n",
    "recall1 = evaluator_recall.evaluate(pred_simple_gbt)\n",
    "precision1_other = evaluator_precision_other.evaluate(pred_simple_gbt)\n",
    "recall1_other = evaluator_recall_other.evaluate(pred_simple_gbt)\n",
    "f1_1 = 2*(precision1*recall1)/(precision1+recall1)"
   ]
  },
  {
   "cell_type": "markdown",
   "id": "add28d90-f4c6-4421-8c42-59eb980cbdad",
   "metadata": {},
   "source": [
    "### H2O Sparkling Water XGBoost"
   ]
  },
  {
   "cell_type": "code",
   "execution_count": 45,
   "id": "50d17437-9455-4d9f-bd08-220dbf24f5ce",
   "metadata": {},
   "outputs": [
    {
     "name": "stdout",
     "output_type": "stream",
     "text": [
      "13.021783351898193\n"
     ]
    },
    {
     "name": "stderr",
     "output_type": "stream",
     "text": [
      "The frame.append method is deprecated and will be removed from pandas in a future version. Use pandas.concat instead.\n"
     ]
    }
   ],
   "source": [
    "start = time.time()\n",
    "\n",
    "xgboost = H2OXGBoostClassifier(labelCol = \"label\", featuresCols=['features'])\n",
    "simple_model_xgb = Pipeline(stages=[xgboost]).fit(training)\n",
    "\n",
    "end = time.time()\n",
    "\n",
    "t = end - start\n",
    "imp_time = {'n_cores':N_CORES, 'implementation':'H2O_Sparkling_Water_XGBoost', 'time': t}\n",
    "time_df = time_df.append(imp_time, ignore_index = True)\n",
    "print(t)"
   ]
  },
  {
   "cell_type": "code",
   "execution_count": 46,
   "id": "1c159329-1c04-4100-8409-8df1eb81db80",
   "metadata": {},
   "outputs": [],
   "source": [
    "pred_simple_xgb = simple_model_xgb.transform(test)\n",
    "pred_simple_xgb = pred_simple_xgb.withColumn('prediction', pred_simple_xgb['prediction'].cast(DoubleType()))\n",
    "\n",
    "accuracy2 = evaluator_ACC.evaluate(pred_simple_xgb)\n",
    "precision2 = evaluator_precision.evaluate(pred_simple_xgb)\n",
    "recall2 = evaluator_recall.evaluate(pred_simple_xgb)\n",
    "precision2_other = evaluator_precision_other.evaluate(pred_simple_xgb)\n",
    "recall2_other = evaluator_recall_other.evaluate(pred_simple_xgb)\n",
    "f1_2 = 2*(precision2*recall2)/(precision2+recall2)"
   ]
  },
  {
   "cell_type": "markdown",
   "id": "5244a8c5-ce23-44a0-a7e6-9235e558987e",
   "metadata": {},
   "source": [
    "### SynapseML Light-GBM"
   ]
  },
  {
   "cell_type": "code",
   "execution_count": 47,
   "id": "c5700d52-9b5a-45df-b082-0fa830174f14",
   "metadata": {},
   "outputs": [
    {
     "name": "stdout",
     "output_type": "stream",
     "text": [
      "3.095107078552246\n"
     ]
    },
    {
     "name": "stderr",
     "output_type": "stream",
     "text": [
      "The frame.append method is deprecated and will be removed from pandas in a future version. Use pandas.concat instead.\n"
     ]
    }
   ],
   "source": [
    "start = time.time()\n",
    "\n",
    "gbm = LightGBMClassifier(objective=\"binary\", featuresCol=\"features\", labelCol=\"label\", isUnbalance=True)\n",
    "simple_model_gbm = Pipeline(stages=[gbm]).fit(training)\n",
    "\n",
    "end = time.time()\n",
    "\n",
    "t = end - start\n",
    "imp_time = {'n_cores':N_CORES, 'implementation':'synapseML_light-GBM', 'time': t}\n",
    "time_df = time_df.append(imp_time, ignore_index = True)\n",
    "print(t)"
   ]
  },
  {
   "cell_type": "code",
   "execution_count": 48,
   "id": "1fe3517a-0fec-46d7-be95-5519e5c907da",
   "metadata": {},
   "outputs": [],
   "source": [
    "pred_simple_gbm = simple_model_gbm.transform(test)\n",
    "pred_simple_gbm = pred_simple_gbm.withColumn('prediction', pred_simple_gbm['prediction'].cast(DoubleType()))\n",
    "\n",
    "accuracy3 = evaluator_ACC.evaluate(pred_simple_gbm)\n",
    "precision3 = evaluator_precision.evaluate(pred_simple_gbm)\n",
    "recall3 = evaluator_recall.evaluate(pred_simple_gbm)\n",
    "precision3_other = evaluator_precision_other.evaluate(pred_simple_gbm)\n",
    "recall3_other = evaluator_recall_other.evaluate(pred_simple_gbm)\n",
    "f1_3 = 2*(precision3*recall3)/(precision3+recall3)"
   ]
  },
  {
   "cell_type": "markdown",
   "id": "f7ed43c1-4593-4159-87fe-418019bc485b",
   "metadata": {},
   "source": [
    "#### Pomiar czasu"
   ]
  },
  {
   "cell_type": "code",
   "execution_count": 49,
   "id": "9f8ca41b-613f-4dbf-bad4-dbb48203d3ef",
   "metadata": {},
   "outputs": [],
   "source": [
    "result_path = f\"time_res_both_ncores_{N_CORES}\"\n",
    "if CREATE_TIME_DATA:\n",
    "    time_df.to_csv(result_path)"
   ]
  },
  {
   "cell_type": "markdown",
   "id": "fd9330be-a493-49c6-8bf9-eb53a96cd81e",
   "metadata": {},
   "source": [
    "# Wyniki - GBT, XGBoost, Light-GBM"
   ]
  },
  {
   "cell_type": "code",
   "execution_count": 50,
   "id": "c28a9ad5-6b74-4460-9b46-506bd5bf9590",
   "metadata": {},
   "outputs": [
    {
     "name": "stderr",
     "output_type": "stream",
     "text": [
      "The frame.append method is deprecated and will be removed from pandas in a future version. Use pandas.concat instead.\n",
      "The frame.append method is deprecated and will be removed from pandas in a future version. Use pandas.concat instead.\n",
      "The frame.append method is deprecated and will be removed from pandas in a future version. Use pandas.concat instead.\n"
     ]
    },
    {
     "data": {
      "text/html": [
       "<div>\n",
       "<style scoped>\n",
       "    .dataframe tbody tr th:only-of-type {\n",
       "        vertical-align: middle;\n",
       "    }\n",
       "\n",
       "    .dataframe tbody tr th {\n",
       "        vertical-align: top;\n",
       "    }\n",
       "\n",
       "    .dataframe thead th {\n",
       "        text-align: right;\n",
       "    }\n",
       "</style>\n",
       "<table border=\"1\" class=\"dataframe\">\n",
       "  <thead>\n",
       "    <tr style=\"text-align: right;\">\n",
       "      <th></th>\n",
       "      <th>model</th>\n",
       "      <th>ACC</th>\n",
       "      <th>F1</th>\n",
       "      <th>Precision</th>\n",
       "      <th>Recall</th>\n",
       "      <th>Precision_zeros</th>\n",
       "      <th>Recall_zeros</th>\n",
       "    </tr>\n",
       "  </thead>\n",
       "  <tbody>\n",
       "    <tr>\n",
       "      <th>0</th>\n",
       "      <td>sparkML GBT</td>\n",
       "      <td>0.849481</td>\n",
       "      <td>0.918575</td>\n",
       "      <td>0.849800</td>\n",
       "      <td>0.999463</td>\n",
       "      <td>0.500000</td>\n",
       "      <td>0.003028</td>\n",
       "    </tr>\n",
       "    <tr>\n",
       "      <th>1</th>\n",
       "      <td>H2O Sparkling Water XGBoost</td>\n",
       "      <td>0.849126</td>\n",
       "      <td>0.918265</td>\n",
       "      <td>0.850564</td>\n",
       "      <td>0.997675</td>\n",
       "      <td>0.450704</td>\n",
       "      <td>0.010767</td>\n",
       "    </tr>\n",
       "    <tr>\n",
       "      <th>2</th>\n",
       "      <td>SynapseML Light-GBM</td>\n",
       "      <td>0.657230</td>\n",
       "      <td>0.769089</td>\n",
       "      <td>0.899019</td>\n",
       "      <td>0.671973</td>\n",
       "      <td>0.236681</td>\n",
       "      <td>0.574024</td>\n",
       "    </tr>\n",
       "  </tbody>\n",
       "</table>\n",
       "</div>"
      ],
      "text/plain": [
       "                         model       ACC        F1  Precision    Recall  \\\n",
       "0                  sparkML GBT  0.849481  0.918575   0.849800  0.999463   \n",
       "1  H2O Sparkling Water XGBoost  0.849126  0.918265   0.850564  0.997675   \n",
       "2          SynapseML Light-GBM  0.657230  0.769089   0.899019  0.671973   \n",
       "\n",
       "   Precision_zeros  Recall_zeros  \n",
       "0         0.500000      0.003028  \n",
       "1         0.450704      0.010767  \n",
       "2         0.236681      0.574024  "
      ]
     },
     "execution_count": 50,
     "metadata": {},
     "output_type": "execute_result"
    }
   ],
   "source": [
    "results_df_rest = pd.DataFrame(columns = ['model','ACC','F1','Precision','Recall','Precision_zeros','Recall_zeros'])\n",
    "\n",
    "resoults1 = {'model': 'sparkML GBT', 'ACC': accuracy1, 'F1': f1_1, 'Precision': precision1, 'Recall': recall1, 'Precision_zeros': precision1_other,'Recall_zeros': recall1_other}\n",
    "resoults2 = {'model': 'H2O Sparkling Water XGBoost', 'ACC': accuracy2, 'F1': f1_2, 'Precision': precision2, 'Recall': recall2, 'Precision_zeros': precision2_other,'Recall_zeros': recall2_other}\n",
    "resoults3 = {'model': 'SynapseML Light-GBM', 'ACC': accuracy3, 'F1': f1_3, 'Precision': precision3, 'Recall': recall3, 'Precision_zeros': precision3_other,'Recall_zeros': recall3_other}\n",
    "\n",
    "results_df_rest = results_df_rest.append(resoults1, ignore_index = True)\n",
    "results_df_rest = results_df_rest.append(resoults2, ignore_index = True)\n",
    "results_df_rest = results_df_rest.append(resoults3, ignore_index = True)\n",
    "\n",
    "results_df_rest"
   ]
  },
  {
   "cell_type": "markdown",
   "id": "e66c37f8-dad2-42ac-a7f0-283cac3078ad",
   "metadata": {},
   "source": [
    "# Wyniki - Skalowalność względem ilości rdzeni"
   ]
  },
  {
   "cell_type": "code",
   "execution_count": 51,
   "id": "3dc9bcc5-41b8-4593-b576-55519913e986",
   "metadata": {},
   "outputs": [],
   "source": [
    "list_n_cores = [1,2,3,4,5,6,8,12]\n",
    "\n",
    "time_df_plot = None\n",
    "for n_core in list_n_cores:\n",
    "    if time_df is not None:\n",
    "        temp_df = pd.read_csv(f\"time_res_both_ncores_{n_core}\")\n",
    "        time_df_plot = pd.concat([time_df_plot, temp_df], axis=0)\n",
    "    else:\n",
    "        time_df_plot = pd.read_csv(f\"time_res_both_ncores_{n_core}\")"
   ]
  },
  {
   "cell_type": "code",
   "execution_count": 52,
   "id": "8cabe126-08b5-4325-9a1c-53f833609c8b",
   "metadata": {},
   "outputs": [],
   "source": [
    "time_df_plot['relative_perf'] = time_df_plot.apply(lambda row: (1/row.time) * (1/row.n_cores), axis=1)"
   ]
  },
  {
   "cell_type": "code",
   "execution_count": 53,
   "id": "056ebe49-854d-47f5-875e-936e8c9f5be6",
   "metadata": {},
   "outputs": [
    {
     "data": {
      "text/plain": [
       "<AxesSubplot:title={'center':'Czas trenowania modelu w zależności od liczby rdzeni'}, xlabel='liczba rdzeni', ylabel='czas [s]'>"
      ]
     },
     "execution_count": 53,
     "metadata": {},
     "output_type": "execute_result"
    },
    {
     "data": {
      "image/png": "[encoded data removed]",
      "text/plain": [
       "<Figure size 864x432 with 1 Axes>"
      ]
     },
     "metadata": {
      "needs_background": "light"
     },
     "output_type": "display_data"
    }
   ],
   "source": [
    "df_plot = time_df_plot.pivot(index='n_cores', columns='implementation', values='time')\n",
    "df_plot = df_plot[['sparkML_LR', 'H2O_Sparkling_Water_LR', 'sparkML_GBT', 'H2O_Sparkling_Water_XGBoost', 'synapseML_light-GBM']]\n",
    "df_plot.plot(figsize=(12,6), ylabel='czas [s]', xlabel='liczba rdzeni',\n",
    "             title='Czas trenowania modelu w zależności od liczby rdzeni', xlim=[1,12], ylim=[0,100])"
   ]
  },
  {
   "cell_type": "code",
   "execution_count": 54,
   "id": "dcdb2643-d414-4870-92d5-e831c79189f0",
   "metadata": {},
   "outputs": [
    {
     "data": {
      "text/plain": [
       "<AxesSubplot:title={'center':'Wydajność pojedynczego rdzenia'}, xlabel='liczba rdzeni', ylabel='1/(czas * liczba rdzeni)'>"
      ]
     },
     "execution_count": 54,
     "metadata": {},
     "output_type": "execute_result"
    },
    {
     "data": {
      "image/png": "[encoded data removed]",
      "text/plain": [
       "<Figure size 864x432 with 1 Axes>"
      ]
     },
     "metadata": {
      "needs_background": "light"
     },
     "output_type": "display_data"
    }
   ],
   "source": [
    "df_plot = time_df_plot.pivot(index='n_cores', columns='implementation', values='relative_perf')\n",
    "df_plot = df_plot[['sparkML_LR', 'H2O_Sparkling_Water_LR', 'sparkML_GBT', 'H2O_Sparkling_Water_XGBoost', 'synapseML_light-GBM']]\n",
    "df_plot.plot(figsize=(12,6), ylabel='1/(czas * liczba rdzeni)', xlabel='liczba rdzeni',\n",
    "             title='Wydajność pojedynczego rdzenia', xlim=[1,12], ylim=[0,0.05])"
   ]
  },
  {
   "attachments": {},
   "cell_type": "markdown",
   "id": "b1278d49-ebb1-4264-aac9-4dc106b7d555",
   "metadata": {},
   "source": [
    "## 5a. które modele się lepiej skalują ##\n",
    "\n",
    "Najlepiej skalują się algorytmy i H2O_Sparkling_Water_XGBoost - dla nich wyliczona wydajność pojedynczego rdzenia spada najwolniej wraz z ilością rdzeni. Z drugiej strony algorytm synapseML_light-GBM skaluje się bardzo źle."
   ]
  },
  {
   "cell_type": "markdown",
   "id": "aa5adb62-f660-4c90-9c8b-52ee0c2c3bbb",
   "metadata": {},
   "source": [
    "# Optymalizacja hiperparametrów + Cross Validation"
   ]
  },
  {
   "cell_type": "markdown",
   "id": "c0573b81-09d3-419a-ad3b-dc94e3096706",
   "metadata": {},
   "source": [
    "## Ponowne wczytanie i przetworzenie zbioru danych (mniejszego) w celu dokonania optymalizacji i CV"
   ]
  },
  {
   "cell_type": "code",
   "execution_count": 55,
   "id": "1e5aa264-1ba6-43eb-8cda-21260cfd1c96",
   "metadata": {},
   "outputs": [],
   "source": [
    "csv_path = 'ds1_1e4.csv'"
   ]
  },
  {
   "cell_type": "code",
   "execution_count": 56,
   "id": "8dccbdca-31d5-411a-9768-eb6847c9cde1",
   "metadata": {},
   "outputs": [],
   "source": [
    "spark_df = spark.read.options(header='True', inferSchema='True', delimiter=',').csv(f\"{csv_path}\")"
   ]
  },
  {
   "cell_type": "code",
   "execution_count": 57,
   "id": "84cde351-3787-4f27-90c2-6777d129f628",
   "metadata": {},
   "outputs": [],
   "source": [
    "from pyspark.sql.functions import udf\n",
    "\n",
    "def ignore_colon(x):\n",
    "    if x:\n",
    "        return x.replace(':','')\n",
    "    else:\n",
    "        return None\n",
    "\n",
    "colon_udf = udf(ignore_colon)\n",
    "\n",
    "spark_df = spark_df.withColumn('Light_Conditions', colon_udf('Light_Conditions'))"
   ]
  },
  {
   "cell_type": "code",
   "execution_count": 58,
   "id": "2a9195c6-5f1c-4de3-88d0-c85c596edd5f",
   "metadata": {},
   "outputs": [],
   "source": [
    "# rzutowanie 'label' (boolean) na Integer\n",
    "spark_df = spark_df.withColumn('label', F.when(spark_df.label == 'false', 0).otherwise(1))"
   ]
  },
  {
   "cell_type": "code",
   "execution_count": 59,
   "id": "6a85925c-ee80-4d41-b248-0f8857ec0adf",
   "metadata": {},
   "outputs": [],
   "source": [
    "y = 'label'\n",
    "#Wybór kolumn używanych w modelu\n",
    "feature_columns = ['Pedestrian_Crossing-Human_Control','Carriageway_Hazards','Special_Conditions_at_Site','Urban_or_Rural_Area','Road_Surface_Conditions',\n",
    "                   'Road_Type','Junction_Control','Pedestrian_Crossing-Physical_Facilities','Light_Conditions', 'Weather_Conditions',\n",
    "                   'Did_Police_Officer_Attend_Scene_of_Accident','2nd_Road_Class', '1st_Road_Class','Speed_limit', '2nd_Road_Number',\n",
    "                   'Number_of_Vehicles','Number_of_Casualties']"
   ]
  },
  {
   "cell_type": "code",
   "execution_count": 60,
   "id": "3e204846-120a-40e9-bfa0-273ae89cc711",
   "metadata": {},
   "outputs": [],
   "source": [
    "stringindexer_stages = [StringIndexer(inputCol=c, outputCol='stringindexed_' + c).setHandleInvalid(\"keep\") for c in feature_columns]\n",
    "onehotencoder_stages = [OneHotEncoder(inputCol='stringindexed_' + c, outputCol='onehot_' + c) for c in feature_columns]"
   ]
  },
  {
   "cell_type": "code",
   "execution_count": 61,
   "id": "66dbd28d-f176-499b-85f6-b52f6ccd56c1",
   "metadata": {},
   "outputs": [],
   "source": [
    "extracted_columns = ['onehot_' + c for c in feature_columns]\n",
    "vectorassembler_stage = VectorAssembler(inputCols=extracted_columns, outputCol='features')"
   ]
  },
  {
   "cell_type": "code",
   "execution_count": 62,
   "id": "513b2b4f-cbb2-44b0-aa81-b39a22ce00c5",
   "metadata": {},
   "outputs": [],
   "source": [
    "final_columns = [y] + feature_columns + extracted_columns + ['features']"
   ]
  },
  {
   "cell_type": "code",
   "execution_count": 63,
   "id": "bab74dda-0063-453c-82e6-d12082fe1980",
   "metadata": {},
   "outputs": [],
   "source": [
    "transformed_df = Pipeline(stages=stringindexer_stages + \\\n",
    "                          onehotencoder_stages + \\\n",
    "                          [vectorassembler_stage] \\\n",
    "                         ).fit(spark_df).transform(spark_df).select(final_columns)"
   ]
  },
  {
   "cell_type": "code",
   "execution_count": 64,
   "id": "8edbd358-b861-4f4b-88c4-a31575507d27",
   "metadata": {},
   "outputs": [],
   "source": [
    "training, test = transformed_df.randomSplit([0.8, 0.2], seed=1234)"
   ]
  },
  {
   "cell_type": "markdown",
   "id": "660ca570-9a49-46d5-98b6-a70273913baa",
   "metadata": {},
   "source": [
    "## Optymalizacja hiperparametrów + Cross Validation"
   ]
  },
  {
   "cell_type": "code",
   "execution_count": 65,
   "id": "bba3e80f-bfba-4eb0-9918-2c7186cc0c0c",
   "metadata": {},
   "outputs": [],
   "source": [
    "from pyspark.ml.tuning import ParamGridBuilder\n",
    "from pyspark.ml.tuning import CrossValidator"
   ]
  },
  {
   "cell_type": "code",
   "execution_count": 66,
   "id": "6058201a-c34c-4efc-8ba0-d7556dc8dc0a",
   "metadata": {},
   "outputs": [],
   "source": [
    "##GBT\n",
    "gbt = GBTClassifier(labelCol=\"label\", featuresCol=\"features\", maxIter=10)\n",
    "param_grid = ParamGridBuilder().\\\n",
    "    addGrid(gbt.maxDepth, [2,3,4,5,6]).\\\n",
    "    build()\n",
    "\n",
    "cv = CrossValidator(estimator = gbt, estimatorParamMaps=param_grid, evaluator=evaluator_ACC, numFolds=4)\n",
    "cv_model = cv.fit(training)\n",
    "pred_simple_gbt = cv_model.transform(test)"
   ]
  },
  {
   "cell_type": "code",
   "execution_count": 67,
   "id": "88141620-420b-4700-a5cd-e3b3ca1ba4d9",
   "metadata": {},
   "outputs": [],
   "source": [
    "pred_simple_gbt = pred_simple_gbt.withColumn('prediction', pred_simple_gbt['prediction'].cast(DoubleType()))\n",
    "\n",
    "accuracy1 = evaluator_ACC.evaluate(pred_simple_gbt)\n",
    "precision1 = evaluator_precision.evaluate(pred_simple_gbt)\n",
    "recall1 = evaluator_recall.evaluate(pred_simple_gbt)\n",
    "precision1_other = evaluator_precision_other.evaluate(pred_simple_gbt)\n",
    "recall1_other = evaluator_recall_other.evaluate(pred_simple_gbt)\n",
    "f1_1 = 2*(precision1*recall1)/(precision1+recall1)"
   ]
  },
  {
   "cell_type": "code",
   "execution_count": 68,
   "id": "bc394332-21d8-49e0-82d4-bd0e1c81ca2b",
   "metadata": {},
   "outputs": [
    {
     "name": "stderr",
     "output_type": "stream",
     "text": [
      "The frame.append method is deprecated and will be removed from pandas in a future version. Use pandas.concat instead.\n"
     ]
    },
    {
     "data": {
      "text/html": [
       "<div>\n",
       "<style scoped>\n",
       "    .dataframe tbody tr th:only-of-type {\n",
       "        vertical-align: middle;\n",
       "    }\n",
       "\n",
       "    .dataframe tbody tr th {\n",
       "        vertical-align: top;\n",
       "    }\n",
       "\n",
       "    .dataframe thead th {\n",
       "        text-align: right;\n",
       "    }\n",
       "</style>\n",
       "<table border=\"1\" class=\"dataframe\">\n",
       "  <thead>\n",
       "    <tr style=\"text-align: right;\">\n",
       "      <th></th>\n",
       "      <th>model</th>\n",
       "      <th>ACC</th>\n",
       "      <th>F1</th>\n",
       "      <th>Precision</th>\n",
       "      <th>Recall</th>\n",
       "      <th>Precision_zeros</th>\n",
       "      <th>Recall_zeros</th>\n",
       "    </tr>\n",
       "  </thead>\n",
       "  <tbody>\n",
       "    <tr>\n",
       "      <th>0</th>\n",
       "      <td>sparkML GBT OPTIMIZED</td>\n",
       "      <td>0.844793</td>\n",
       "      <td>0.915867</td>\n",
       "      <td>0.844793</td>\n",
       "      <td>1.0</td>\n",
       "      <td>0.0</td>\n",
       "      <td>0.0</td>\n",
       "    </tr>\n",
       "  </tbody>\n",
       "</table>\n",
       "</div>"
      ],
      "text/plain": [
       "                   model       ACC        F1  Precision  Recall  \\\n",
       "0  sparkML GBT OPTIMIZED  0.844793  0.915867   0.844793     1.0   \n",
       "\n",
       "   Precision_zeros  Recall_zeros  \n",
       "0              0.0           0.0  "
      ]
     },
     "execution_count": 68,
     "metadata": {},
     "output_type": "execute_result"
    }
   ],
   "source": [
    "results_df_lr_opt = pd.DataFrame(columns = ['model','ACC','F1','Precision','Recall','Precision_zeros','Recall_zeros'])\n",
    "\n",
    "resoults2 = {'model': 'sparkML GBT OPTIMIZED', 'ACC': accuracy1, 'F1': f1_1, 'Precision': precision1, 'Recall': recall1, 'Precision_zeros': precision1_other,'Recall_zeros': recall1_other}\n",
    "\n",
    "results_df_lr_opt = results_df_lr_opt.append(resoults2, ignore_index = True)\n",
    "\n",
    "results_df_lr_opt"
   ]
  },
  {
   "attachments": {},
   "cell_type": "markdown",
   "id": "5b943689",
   "metadata": {},
   "source": [
    "## 5b. które implementacje są bardziej wydajne ##\n",
    "W poniższej tabeli widać, że pomiędzy  sparkML GBT, a H2O Sparkling Water XGBoost nie ma dużej różnicy w wynikach. Można wysunąć wniosek, że wydajnościowo są one na podobnym poziomie.\n",
    "Problem pojawia się przy SynapseML Light-GBM, który jest dużo mniej wydajny (ACC mniejsze aż o 0.2)"
   ]
  },
  {
   "cell_type": "code",
   "execution_count": 69,
   "id": "6b143043-4328-4d01-8a2a-db895fbbcf32",
   "metadata": {},
   "outputs": [
    {
     "data": {
      "text/html": [
       "<div>\n",
       "<style scoped>\n",
       "    .dataframe tbody tr th:only-of-type {\n",
       "        vertical-align: middle;\n",
       "    }\n",
       "\n",
       "    .dataframe tbody tr th {\n",
       "        vertical-align: top;\n",
       "    }\n",
       "\n",
       "    .dataframe thead th {\n",
       "        text-align: right;\n",
       "    }\n",
       "</style>\n",
       "<table border=\"1\" class=\"dataframe\">\n",
       "  <thead>\n",
       "    <tr style=\"text-align: right;\">\n",
       "      <th></th>\n",
       "      <th>model</th>\n",
       "      <th>ACC</th>\n",
       "      <th>F1</th>\n",
       "      <th>Precision</th>\n",
       "      <th>Recall</th>\n",
       "      <th>Precision_zeros</th>\n",
       "      <th>Recall_zeros</th>\n",
       "    </tr>\n",
       "  </thead>\n",
       "  <tbody>\n",
       "    <tr>\n",
       "      <th>0</th>\n",
       "      <td>sparkML GBT</td>\n",
       "      <td>0.849481</td>\n",
       "      <td>0.918575</td>\n",
       "      <td>0.849800</td>\n",
       "      <td>0.999463</td>\n",
       "      <td>0.500000</td>\n",
       "      <td>0.003028</td>\n",
       "    </tr>\n",
       "    <tr>\n",
       "      <th>1</th>\n",
       "      <td>H2O Sparkling Water XGBoost</td>\n",
       "      <td>0.849126</td>\n",
       "      <td>0.918265</td>\n",
       "      <td>0.850564</td>\n",
       "      <td>0.997675</td>\n",
       "      <td>0.450704</td>\n",
       "      <td>0.010767</td>\n",
       "    </tr>\n",
       "    <tr>\n",
       "      <th>2</th>\n",
       "      <td>SynapseML Light-GBM</td>\n",
       "      <td>0.657230</td>\n",
       "      <td>0.769089</td>\n",
       "      <td>0.899019</td>\n",
       "      <td>0.671973</td>\n",
       "      <td>0.236681</td>\n",
       "      <td>0.574024</td>\n",
       "    </tr>\n",
       "  </tbody>\n",
       "</table>\n",
       "</div>"
      ],
      "text/plain": [
       "                         model       ACC        F1  Precision    Recall  \\\n",
       "0                  sparkML GBT  0.849481  0.918575   0.849800  0.999463   \n",
       "1  H2O Sparkling Water XGBoost  0.849126  0.918265   0.850564  0.997675   \n",
       "2          SynapseML Light-GBM  0.657230  0.769089   0.899019  0.671973   \n",
       "\n",
       "   Precision_zeros  Recall_zeros  \n",
       "0         0.500000      0.003028  \n",
       "1         0.450704      0.010767  \n",
       "2         0.236681      0.574024  "
      ]
     },
     "execution_count": 69,
     "metadata": {},
     "output_type": "execute_result"
    }
   ],
   "source": [
    "results_df_rest"
   ]
  },
  {
   "cell_type": "code",
   "execution_count": 70,
   "id": "394ff68e-9bde-4efd-9b99-a0355947d60e",
   "metadata": {},
   "outputs": [],
   "source": [
    "lr = LogisticRegression(featuresCol='features', labelCol='label')\n",
    "param_grid = ParamGridBuilder().\\\n",
    "    addGrid(lr.regParam, [0, 0.3, 0.6, 0.8]).\\\n",
    "    build()\n",
    "\n",
    "cv = CrossValidator(estimator = lr, estimatorParamMaps=param_grid, evaluator=evaluator_ACC, numFolds=4)\n",
    "cv_model = cv.fit(training)\n",
    "pred_lr = cv_model.transform(test)"
   ]
  },
  {
   "cell_type": "code",
   "execution_count": 71,
   "id": "3723b44a-2dd3-45a2-8629-15b02bc89cf4",
   "metadata": {},
   "outputs": [],
   "source": [
    "pred_lr = pred_lr.withColumn('prediction', pred_lr['prediction'].cast(DoubleType()))\n",
    "\n",
    "accuracy2 = evaluator_ACC.evaluate(pred_lr)\n",
    "precision2 = evaluator_precision.evaluate(pred_lr)\n",
    "recall2 = evaluator_recall.evaluate(pred_lr)\n",
    "precision2_other = evaluator_precision_other.evaluate(pred_lr)\n",
    "recall2_other = evaluator_recall_other.evaluate(pred_lr)\n",
    "f1_2 = 2*(precision2*recall2)/(precision2+recall2)"
   ]
  },
  {
   "cell_type": "code",
   "execution_count": 72,
   "id": "1572ff33-321d-446c-84b8-e76213f4df77",
   "metadata": {},
   "outputs": [
    {
     "name": "stderr",
     "output_type": "stream",
     "text": [
      "The frame.append method is deprecated and will be removed from pandas in a future version. Use pandas.concat instead.\n"
     ]
    },
    {
     "data": {
      "text/html": [
       "<div>\n",
       "<style scoped>\n",
       "    .dataframe tbody tr th:only-of-type {\n",
       "        vertical-align: middle;\n",
       "    }\n",
       "\n",
       "    .dataframe tbody tr th {\n",
       "        vertical-align: top;\n",
       "    }\n",
       "\n",
       "    .dataframe thead th {\n",
       "        text-align: right;\n",
       "    }\n",
       "</style>\n",
       "<table border=\"1\" class=\"dataframe\">\n",
       "  <thead>\n",
       "    <tr style=\"text-align: right;\">\n",
       "      <th></th>\n",
       "      <th>model</th>\n",
       "      <th>ACC</th>\n",
       "      <th>F1</th>\n",
       "      <th>Precision</th>\n",
       "      <th>Recall</th>\n",
       "      <th>Precision_zeros</th>\n",
       "      <th>Recall_zeros</th>\n",
       "    </tr>\n",
       "  </thead>\n",
       "  <tbody>\n",
       "    <tr>\n",
       "      <th>0</th>\n",
       "      <td>H2O Sparkling Water Logistic Regression OPTIMIZED</td>\n",
       "      <td>0.844793</td>\n",
       "      <td>0.915867</td>\n",
       "      <td>0.844793</td>\n",
       "      <td>1.0</td>\n",
       "      <td>0.0</td>\n",
       "      <td>0.0</td>\n",
       "    </tr>\n",
       "  </tbody>\n",
       "</table>\n",
       "</div>"
      ],
      "text/plain": [
       "                                               model       ACC        F1  \\\n",
       "0  H2O Sparkling Water Logistic Regression OPTIMIZED  0.844793  0.915867   \n",
       "\n",
       "   Precision  Recall  Precision_zeros  Recall_zeros  \n",
       "0   0.844793     1.0              0.0           0.0  "
      ]
     },
     "execution_count": 72,
     "metadata": {},
     "output_type": "execute_result"
    }
   ],
   "source": [
    "results_df_rest_opt = pd.DataFrame(columns = ['model','ACC','F1','Precision','Recall','Precision_zeros','Recall_zeros'])\n",
    "\n",
    "resoults2 = {'model': 'H2O Sparkling Water Logistic Regression OPTIMIZED', 'ACC': accuracy2, 'F1': f1_2, 'Precision': precision2, 'Recall': recall2, 'Precision_zeros': precision2_other,'Recall_zeros': recall2_other}\n",
    "\n",
    "results_df_rest_opt = results_df_rest_opt.append(resoults2, ignore_index = True)\n",
    "\n",
    "results_df_rest_opt"
   ]
  },
  {
   "attachments": {},
   "cell_type": "markdown",
   "id": "f87f882c",
   "metadata": {},
   "source": [
    "\n",
    "W poniższej tabeli znajduję się porównanie wydajności regresji logistycznej dla 3 bibliotek. Analizując wyniki można wysunąć wniosek, że wydajnościowo wszystko użyte implementację są na podobnym poziomie."
   ]
  },
  {
   "cell_type": "code",
   "execution_count": 73,
   "id": "e374b25e-cec2-455f-a96f-880eae2ae5bd",
   "metadata": {},
   "outputs": [
    {
     "data": {
      "text/html": [
       "<div>\n",
       "<style scoped>\n",
       "    .dataframe tbody tr th:only-of-type {\n",
       "        vertical-align: middle;\n",
       "    }\n",
       "\n",
       "    .dataframe tbody tr th {\n",
       "        vertical-align: top;\n",
       "    }\n",
       "\n",
       "    .dataframe thead th {\n",
       "        text-align: right;\n",
       "    }\n",
       "</style>\n",
       "<table border=\"1\" class=\"dataframe\">\n",
       "  <thead>\n",
       "    <tr style=\"text-align: right;\">\n",
       "      <th></th>\n",
       "      <th>model</th>\n",
       "      <th>ACC</th>\n",
       "      <th>F1</th>\n",
       "      <th>Precision</th>\n",
       "      <th>Recall</th>\n",
       "      <th>Precision_zeros</th>\n",
       "      <th>Recall_zeros</th>\n",
       "    </tr>\n",
       "  </thead>\n",
       "  <tbody>\n",
       "    <tr>\n",
       "      <th>0</th>\n",
       "      <td>sparkML Logistic Regression</td>\n",
       "      <td>0.846898</td>\n",
       "      <td>0.916944</td>\n",
       "      <td>0.850336</td>\n",
       "      <td>0.994873</td>\n",
       "      <td>0.289256</td>\n",
       "      <td>0.011777</td>\n",
       "    </tr>\n",
       "    <tr>\n",
       "      <th>1</th>\n",
       "      <td>H2O Sparkling Water Logistic Regression</td>\n",
       "      <td>0.846797</td>\n",
       "      <td>0.916866</td>\n",
       "      <td>0.850464</td>\n",
       "      <td>0.994515</td>\n",
       "      <td>0.297710</td>\n",
       "      <td>0.013122</td>\n",
       "    </tr>\n",
       "    <tr>\n",
       "      <th>2</th>\n",
       "      <td>scikit-learn Logistic Regression</td>\n",
       "      <td>0.849633</td>\n",
       "      <td>0.918664</td>\n",
       "      <td>0.849823</td>\n",
       "      <td>0.999642</td>\n",
       "      <td>0.600000</td>\n",
       "      <td>0.003028</td>\n",
       "    </tr>\n",
       "  </tbody>\n",
       "</table>\n",
       "</div>"
      ],
      "text/plain": [
       "                                     model       ACC        F1  Precision  \\\n",
       "0              sparkML Logistic Regression  0.846898  0.916944   0.850336   \n",
       "1  H2O Sparkling Water Logistic Regression  0.846797  0.916866   0.850464   \n",
       "2         scikit-learn Logistic Regression  0.849633  0.918664   0.849823   \n",
       "\n",
       "     Recall  Precision_zeros  Recall_zeros  \n",
       "0  0.994873         0.289256      0.011777  \n",
       "1  0.994515         0.297710      0.013122  \n",
       "2  0.999642         0.600000      0.003028  "
      ]
     },
     "execution_count": 73,
     "metadata": {},
     "output_type": "execute_result"
    }
   ],
   "source": [
    "results_df_lr"
   ]
  },
  {
   "attachments": {},
   "cell_type": "markdown",
   "id": "571b2871",
   "metadata": {},
   "source": [
    "## 5c czy dla wszystkich modeli wystarczył ten sam pre-processing? ##\n",
    "Nie, dla przykładu model GBM nie mógł wczytać niektórych znaków specjalnych (,:{}). Scikit learn za to  potrzebował oddzielnej preparacji danych.\n",
    "Różne modele z różnych bibliotek mogą wymagać innego preproccesingu. \n"
   ]
  }
 ],
 "metadata": {
  "kernelspec": {
   "display_name": "Python 3",
   "language": "python",
   "name": "python3"
  },
  "language_info": {
   "codemirror_mode": {
    "name": "ipython",
    "version": 3
   },
   "file_extension": ".py",
   "mimetype": "text/x-python",
   "name": "python",
   "nbconvert_exporter": "python",
   "pygments_lexer": "ipython3",
   "version": "3.9.13 (tags/v3.9.13:6de2ca5, May 17 2022, 16:36:42) [MSC v.1929 64 bit (AMD64)]"
  },
  "vscode": {
   "interpreter": {
    "hash": "a92be3524c0268ddc17f7a9babe5635657e6e68627771ba76bf2b30470d952af"
   }
  }
 },
 "nbformat": 4,
 "nbformat_minor": 5
}
